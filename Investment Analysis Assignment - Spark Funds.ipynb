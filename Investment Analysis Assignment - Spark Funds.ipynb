{
 "cells": [
  {
   "cell_type": "markdown",
   "metadata": {},
   "source": [
    "# 01. Data Cleaning"
   ]
  },
  {
   "cell_type": "markdown",
   "metadata": {},
   "source": [
    "#### Import and clean the data files  - companies.csv and round2.csv"
   ]
  },
  {
   "cell_type": "code",
   "execution_count": 3,
   "metadata": {},
   "outputs": [],
   "source": [
    "## import all the necessary python libraries\n",
    "import numpy as np;\n",
    "import pandas as pd;\n",
    "import matplotlib.pyplot as plt;\n",
    "import seaborn as sns;\n",
    "import sys;"
   ]
  },
  {
   "cell_type": "code",
   "execution_count": 4,
   "metadata": {},
   "outputs": [],
   "source": [
    "## Supress Warnings\n",
    "import warnings\n",
    "warnings.filterwarnings('ignore')"
   ]
  },
  {
   "cell_type": "code",
   "execution_count": 5,
   "metadata": {},
   "outputs": [],
   "source": [
    "## Read companies.csv and round2.csv\n",
    "df_companies = pd.read_csv('companies.csv',engine='python')\n",
    "df_rounds = pd.read_csv('rounds2.csv', engine='python')"
   ]
  },
  {
   "cell_type": "code",
   "execution_count": 6,
   "metadata": {},
   "outputs": [
    {
     "data": {
      "text/html": [
       "<div>\n",
       "<style scoped>\n",
       "    .dataframe tbody tr th:only-of-type {\n",
       "        vertical-align: middle;\n",
       "    }\n",
       "\n",
       "    .dataframe tbody tr th {\n",
       "        vertical-align: top;\n",
       "    }\n",
       "\n",
       "    .dataframe thead th {\n",
       "        text-align: right;\n",
       "    }\n",
       "</style>\n",
       "<table border=\"1\" class=\"dataframe\">\n",
       "  <thead>\n",
       "    <tr style=\"text-align: right;\">\n",
       "      <th></th>\n",
       "      <th>permalink</th>\n",
       "      <th>name</th>\n",
       "      <th>homepage_url</th>\n",
       "      <th>category_list</th>\n",
       "      <th>status</th>\n",
       "      <th>country_code</th>\n",
       "      <th>state_code</th>\n",
       "      <th>region</th>\n",
       "      <th>city</th>\n",
       "      <th>founded_at</th>\n",
       "    </tr>\n",
       "  </thead>\n",
       "  <tbody>\n",
       "    <tr>\n",
       "      <th>0</th>\n",
       "      <td>/Organization/-Fame</td>\n",
       "      <td>#fame</td>\n",
       "      <td>http://livfame.com</td>\n",
       "      <td>Media</td>\n",
       "      <td>operating</td>\n",
       "      <td>IND</td>\n",
       "      <td>16</td>\n",
       "      <td>Mumbai</td>\n",
       "      <td>Mumbai</td>\n",
       "      <td>NaN</td>\n",
       "    </tr>\n",
       "    <tr>\n",
       "      <th>1</th>\n",
       "      <td>/Organization/-Qounter</td>\n",
       "      <td>:Qounter</td>\n",
       "      <td>http://www.qounter.com</td>\n",
       "      <td>Application Platforms|Real Time|Social Network...</td>\n",
       "      <td>operating</td>\n",
       "      <td>USA</td>\n",
       "      <td>DE</td>\n",
       "      <td>DE - Other</td>\n",
       "      <td>Delaware City</td>\n",
       "      <td>04-09-2014</td>\n",
       "    </tr>\n",
       "    <tr>\n",
       "      <th>2</th>\n",
       "      <td>/Organization/-The-One-Of-Them-Inc-</td>\n",
       "      <td>(THE) ONE of THEM,Inc.</td>\n",
       "      <td>http://oneofthem.jp</td>\n",
       "      <td>Apps|Games|Mobile</td>\n",
       "      <td>operating</td>\n",
       "      <td>NaN</td>\n",
       "      <td>NaN</td>\n",
       "      <td>NaN</td>\n",
       "      <td>NaN</td>\n",
       "      <td>NaN</td>\n",
       "    </tr>\n",
       "    <tr>\n",
       "      <th>3</th>\n",
       "      <td>/Organization/0-6-Com</td>\n",
       "      <td>0-6.com</td>\n",
       "      <td>http://www.0-6.com</td>\n",
       "      <td>Curated Web</td>\n",
       "      <td>operating</td>\n",
       "      <td>CHN</td>\n",
       "      <td>22</td>\n",
       "      <td>Beijing</td>\n",
       "      <td>Beijing</td>\n",
       "      <td>01-01-2007</td>\n",
       "    </tr>\n",
       "    <tr>\n",
       "      <th>4</th>\n",
       "      <td>/Organization/004-Technologies</td>\n",
       "      <td>004 Technologies</td>\n",
       "      <td>http://004gmbh.de/en/004-interact</td>\n",
       "      <td>Software</td>\n",
       "      <td>operating</td>\n",
       "      <td>USA</td>\n",
       "      <td>IL</td>\n",
       "      <td>Springfield, Illinois</td>\n",
       "      <td>Champaign</td>\n",
       "      <td>01-01-2010</td>\n",
       "    </tr>\n",
       "  </tbody>\n",
       "</table>\n",
       "</div>"
      ],
      "text/plain": [
       "                             permalink                    name  \\\n",
       "0                  /Organization/-Fame                   #fame   \n",
       "1               /Organization/-Qounter                :Qounter   \n",
       "2  /Organization/-The-One-Of-Them-Inc-  (THE) ONE of THEM,Inc.   \n",
       "3                /Organization/0-6-Com                 0-6.com   \n",
       "4       /Organization/004-Technologies        004 Technologies   \n",
       "\n",
       "                        homepage_url  \\\n",
       "0                 http://livfame.com   \n",
       "1             http://www.qounter.com   \n",
       "2                http://oneofthem.jp   \n",
       "3                 http://www.0-6.com   \n",
       "4  http://004gmbh.de/en/004-interact   \n",
       "\n",
       "                                       category_list     status country_code  \\\n",
       "0                                              Media  operating          IND   \n",
       "1  Application Platforms|Real Time|Social Network...  operating          USA   \n",
       "2                                  Apps|Games|Mobile  operating          NaN   \n",
       "3                                        Curated Web  operating          CHN   \n",
       "4                                           Software  operating          USA   \n",
       "\n",
       "  state_code                 region           city  founded_at  \n",
       "0         16                 Mumbai         Mumbai         NaN  \n",
       "1         DE             DE - Other  Delaware City  04-09-2014  \n",
       "2        NaN                    NaN            NaN         NaN  \n",
       "3         22                Beijing        Beijing  01-01-2007  \n",
       "4         IL  Springfield, Illinois      Champaign  01-01-2010  "
      ]
     },
     "execution_count": 6,
     "metadata": {},
     "output_type": "execute_result"
    }
   ],
   "source": [
    "## Lookig at companies head\n",
    "df_companies.head()"
   ]
  },
  {
   "cell_type": "code",
   "execution_count": 7,
   "metadata": {},
   "outputs": [
    {
     "data": {
      "text/html": [
       "<div>\n",
       "<style scoped>\n",
       "    .dataframe tbody tr th:only-of-type {\n",
       "        vertical-align: middle;\n",
       "    }\n",
       "\n",
       "    .dataframe tbody tr th {\n",
       "        vertical-align: top;\n",
       "    }\n",
       "\n",
       "    .dataframe thead th {\n",
       "        text-align: right;\n",
       "    }\n",
       "</style>\n",
       "<table border=\"1\" class=\"dataframe\">\n",
       "  <thead>\n",
       "    <tr style=\"text-align: right;\">\n",
       "      <th></th>\n",
       "      <th>company_permalink</th>\n",
       "      <th>funding_round_permalink</th>\n",
       "      <th>funding_round_type</th>\n",
       "      <th>funding_round_code</th>\n",
       "      <th>funded_at</th>\n",
       "      <th>raised_amount_usd</th>\n",
       "    </tr>\n",
       "  </thead>\n",
       "  <tbody>\n",
       "    <tr>\n",
       "      <th>0</th>\n",
       "      <td>/organization/-fame</td>\n",
       "      <td>/funding-round/9a01d05418af9f794eebff7ace91f638</td>\n",
       "      <td>venture</td>\n",
       "      <td>B</td>\n",
       "      <td>05-01-2015</td>\n",
       "      <td>10000000.0</td>\n",
       "    </tr>\n",
       "    <tr>\n",
       "      <th>1</th>\n",
       "      <td>/ORGANIZATION/-QOUNTER</td>\n",
       "      <td>/funding-round/22dacff496eb7acb2b901dec1dfe5633</td>\n",
       "      <td>venture</td>\n",
       "      <td>A</td>\n",
       "      <td>14-10-2014</td>\n",
       "      <td>NaN</td>\n",
       "    </tr>\n",
       "    <tr>\n",
       "      <th>2</th>\n",
       "      <td>/organization/-qounter</td>\n",
       "      <td>/funding-round/b44fbb94153f6cdef13083530bb48030</td>\n",
       "      <td>seed</td>\n",
       "      <td>NaN</td>\n",
       "      <td>01-03-2014</td>\n",
       "      <td>700000.0</td>\n",
       "    </tr>\n",
       "    <tr>\n",
       "      <th>3</th>\n",
       "      <td>/ORGANIZATION/-THE-ONE-OF-THEM-INC-</td>\n",
       "      <td>/funding-round/650b8f704416801069bb178a1418776b</td>\n",
       "      <td>venture</td>\n",
       "      <td>B</td>\n",
       "      <td>30-01-2014</td>\n",
       "      <td>3406878.0</td>\n",
       "    </tr>\n",
       "    <tr>\n",
       "      <th>4</th>\n",
       "      <td>/organization/0-6-com</td>\n",
       "      <td>/funding-round/5727accaeaa57461bd22a9bdd945382d</td>\n",
       "      <td>venture</td>\n",
       "      <td>A</td>\n",
       "      <td>19-03-2008</td>\n",
       "      <td>2000000.0</td>\n",
       "    </tr>\n",
       "  </tbody>\n",
       "</table>\n",
       "</div>"
      ],
      "text/plain": [
       "                     company_permalink  \\\n",
       "0                  /organization/-fame   \n",
       "1               /ORGANIZATION/-QOUNTER   \n",
       "2               /organization/-qounter   \n",
       "3  /ORGANIZATION/-THE-ONE-OF-THEM-INC-   \n",
       "4                /organization/0-6-com   \n",
       "\n",
       "                           funding_round_permalink funding_round_type  \\\n",
       "0  /funding-round/9a01d05418af9f794eebff7ace91f638            venture   \n",
       "1  /funding-round/22dacff496eb7acb2b901dec1dfe5633            venture   \n",
       "2  /funding-round/b44fbb94153f6cdef13083530bb48030               seed   \n",
       "3  /funding-round/650b8f704416801069bb178a1418776b            venture   \n",
       "4  /funding-round/5727accaeaa57461bd22a9bdd945382d            venture   \n",
       "\n",
       "  funding_round_code   funded_at  raised_amount_usd  \n",
       "0                  B  05-01-2015         10000000.0  \n",
       "1                  A  14-10-2014                NaN  \n",
       "2                NaN  01-03-2014           700000.0  \n",
       "3                  B  30-01-2014          3406878.0  \n",
       "4                  A  19-03-2008          2000000.0  "
      ]
     },
     "execution_count": 7,
     "metadata": {},
     "output_type": "execute_result"
    }
   ],
   "source": [
    "## Looking at rounds head\n",
    "df_rounds.head()"
   ]
  },
  {
   "cell_type": "code",
   "execution_count": 8,
   "metadata": {},
   "outputs": [
    {
     "name": "stdout",
     "output_type": "stream",
     "text": [
      "<class 'pandas.core.frame.DataFrame'>\n",
      "RangeIndex: 66368 entries, 0 to 66367\n",
      "Data columns (total 10 columns):\n",
      " #   Column         Non-Null Count  Dtype \n",
      "---  ------         --------------  ----- \n",
      " 0   permalink      66368 non-null  object\n",
      " 1   name           66367 non-null  object\n",
      " 2   homepage_url   61310 non-null  object\n",
      " 3   category_list  63220 non-null  object\n",
      " 4   status         66368 non-null  object\n",
      " 5   country_code   59410 non-null  object\n",
      " 6   state_code     57821 non-null  object\n",
      " 7   region         58338 non-null  object\n",
      " 8   city           58340 non-null  object\n",
      " 9   founded_at     51147 non-null  object\n",
      "dtypes: object(10)\n",
      "memory usage: 2.5+ MB\n"
     ]
    }
   ],
   "source": [
    "## Check the companies dataframe info-\n",
    "df_companies.info(verbose=True)"
   ]
  },
  {
   "cell_type": "code",
   "execution_count": 9,
   "metadata": {},
   "outputs": [
    {
     "data": {
      "text/plain": [
       "(66368, 10)"
      ]
     },
     "execution_count": 9,
     "metadata": {},
     "output_type": "execute_result"
    }
   ],
   "source": [
    "## Check the shape of company data frame\n",
    "df_companies.shape"
   ]
  },
  {
   "cell_type": "code",
   "execution_count": 10,
   "metadata": {},
   "outputs": [
    {
     "data": {
      "text/plain": [
       "dtype('O')"
      ]
     },
     "execution_count": 10,
     "metadata": {},
     "output_type": "execute_result"
    }
   ],
   "source": [
    "## it looks like the permalink has the unique values - since the not null count = total number of entries\n",
    "df_companies.permalink= df_companies.permalink.astype('str') #converting the permalink to string first\n",
    "df_companies.permalink.dtype"
   ]
  },
  {
   "cell_type": "code",
   "execution_count": 11,
   "metadata": {},
   "outputs": [],
   "source": [
    "## Making everything in lowercase \n",
    "df_companies.permalink=df_companies.permalink.map(lambda x: x.lower())"
   ]
  },
  {
   "cell_type": "code",
   "execution_count": 12,
   "metadata": {},
   "outputs": [
    {
     "data": {
      "text/plain": [
       "0                                      /organization/-fame\n",
       "1                                   /organization/-qounter\n",
       "2                      /organization/-the-one-of-them-inc-\n",
       "3                                    /organization/0-6-com\n",
       "4                           /organization/004-technologies\n",
       "                               ...                        \n",
       "66363    /organization/zznode-science-and-technology-co...\n",
       "66364                            /organization/zzzzapp-com\n",
       "66365                                 /organization/ã�eron\n",
       "66366                               /organization/ã”asys-2\n",
       "66367    /organization/ä°novatiff-reklam-ve-tanä±tä±m-h...\n",
       "Name: permalink, Length: 66368, dtype: object"
      ]
     },
     "execution_count": 12,
     "metadata": {},
     "output_type": "execute_result"
    }
   ],
   "source": [
    "## glossary checking\n",
    "df_companies.permalink"
   ]
  },
  {
   "cell_type": "code",
   "execution_count": 13,
   "metadata": {},
   "outputs": [
    {
     "data": {
      "text/plain": [
       "66368"
      ]
     },
     "execution_count": 13,
     "metadata": {},
     "output_type": "execute_result"
    }
   ],
   "source": [
    "## checking unique permalink\n",
    "df_companies.permalink.nunique(dropna=True)"
   ]
  },
  {
   "cell_type": "markdown",
   "metadata": {},
   "source": [
    "**We have permalink column as unique key in the companies dataframe and each row represents an unique company**"
   ]
  },
  {
   "cell_type": "code",
   "execution_count": 14,
   "metadata": {},
   "outputs": [
    {
     "name": "stdout",
     "output_type": "stream",
     "text": [
      "<class 'pandas.core.frame.DataFrame'>\n",
      "RangeIndex: 114949 entries, 0 to 114948\n",
      "Data columns (total 6 columns):\n",
      " #   Column                   Non-Null Count   Dtype  \n",
      "---  ------                   --------------   -----  \n",
      " 0   company_permalink        114949 non-null  object \n",
      " 1   funding_round_permalink  114949 non-null  object \n",
      " 2   funding_round_type       114949 non-null  object \n",
      " 3   funding_round_code       31140 non-null   object \n",
      " 4   funded_at                114949 non-null  object \n",
      " 5   raised_amount_usd        94959 non-null   float64\n",
      "dtypes: float64(1), object(5)\n",
      "memory usage: 3.1+ MB\n"
     ]
    }
   ],
   "source": [
    "## Let's check the rounds dataframe\n",
    "df_rounds.info()"
   ]
  },
  {
   "cell_type": "code",
   "execution_count": 15,
   "metadata": {},
   "outputs": [
    {
     "data": {
      "text/plain": [
       "(114949, 6)"
      ]
     },
     "execution_count": 15,
     "metadata": {},
     "output_type": "execute_result"
    }
   ],
   "source": [
    "## Shape of Rounds data frame\n",
    "df_rounds.shape"
   ]
  },
  {
   "cell_type": "code",
   "execution_count": 16,
   "metadata": {},
   "outputs": [],
   "source": [
    "## Atleast we have confirmed that company_permanlink does not have any null values\n",
    "df_rounds.company_permalink = df_rounds.company_permalink.astype('str') #converting the permalink to string first\n",
    "## Converting to lowercase\n",
    "df_rounds.company_permalink=df_rounds.company_permalink.map(lambda x: x.lower()) \n"
   ]
  },
  {
   "cell_type": "code",
   "execution_count": 17,
   "metadata": {},
   "outputs": [
    {
     "data": {
      "text/plain": [
       "66368"
      ]
     },
     "execution_count": 17,
     "metadata": {},
     "output_type": "execute_result"
    }
   ],
   "source": [
    "## Checking number of unique companies in company_permalink\n",
    "df_rounds.company_permalink.nunique(dropna=True)"
   ]
  },
  {
   "cell_type": "markdown",
   "metadata": {},
   "source": [
    "#### Checkpoint 1: Data Cleaning 1"
   ]
  },
  {
   "cell_type": "markdown",
   "metadata": {},
   "source": [
    "#### Check if both dataframes companies and rounds have equal number of unique permalink"
   ]
  },
  {
   "cell_type": "code",
   "execution_count": 18,
   "metadata": {},
   "outputs": [
    {
     "data": {
      "text/plain": [
       "66368"
      ]
     },
     "execution_count": 18,
     "metadata": {},
     "output_type": "execute_result"
    }
   ],
   "source": [
    "## Count unique value permalink\n",
    "df_companies.permalink.nunique(dropna=True)"
   ]
  },
  {
   "cell_type": "code",
   "execution_count": 19,
   "metadata": {},
   "outputs": [
    {
     "data": {
      "text/plain": [
       "66368"
      ]
     },
     "execution_count": 19,
     "metadata": {},
     "output_type": "execute_result"
    }
   ],
   "source": [
    "## Count unique value company_permalink\n",
    "df_rounds.company_permalink.nunique(dropna=True)"
   ]
  },
  {
   "cell_type": "code",
   "execution_count": 20,
   "metadata": {},
   "outputs": [
    {
     "data": {
      "text/plain": [
       "True    66368\n",
       "Name: permalink, dtype: int64"
      ]
     },
     "execution_count": 20,
     "metadata": {},
     "output_type": "execute_result"
    }
   ],
   "source": [
    "## check if there is any company that is not in rounds\n",
    "df_companies.permalink.isin(df_rounds.company_permalink).value_counts()"
   ]
  },
  {
   "cell_type": "code",
   "execution_count": 21,
   "metadata": {},
   "outputs": [
    {
     "data": {
      "text/html": [
       "<div>\n",
       "<style scoped>\n",
       "    .dataframe tbody tr th:only-of-type {\n",
       "        vertical-align: middle;\n",
       "    }\n",
       "\n",
       "    .dataframe tbody tr th {\n",
       "        vertical-align: top;\n",
       "    }\n",
       "\n",
       "    .dataframe thead th {\n",
       "        text-align: right;\n",
       "    }\n",
       "</style>\n",
       "<table border=\"1\" class=\"dataframe\">\n",
       "  <thead>\n",
       "    <tr style=\"text-align: right;\">\n",
       "      <th></th>\n",
       "      <th>permalink</th>\n",
       "      <th>name</th>\n",
       "      <th>homepage_url</th>\n",
       "      <th>category_list</th>\n",
       "      <th>status</th>\n",
       "      <th>country_code</th>\n",
       "      <th>state_code</th>\n",
       "      <th>region</th>\n",
       "      <th>city</th>\n",
       "      <th>founded_at</th>\n",
       "    </tr>\n",
       "  </thead>\n",
       "  <tbody>\n",
       "  </tbody>\n",
       "</table>\n",
       "</div>"
      ],
      "text/plain": [
       "Empty DataFrame\n",
       "Columns: [permalink, name, homepage_url, category_list, status, country_code, state_code, region, city, founded_at]\n",
       "Index: []"
      ]
     },
     "execution_count": 21,
     "metadata": {},
     "output_type": "execute_result"
    }
   ],
   "source": [
    "## Looks like all the permalink in rounds exist in companies\n",
    "## Double checking for the confirmation\n",
    "df_companies.loc[~df_companies.permalink.isin(df_rounds.company_permalink),:]"
   ]
  },
  {
   "cell_type": "markdown",
   "metadata": {},
   "source": [
    "#### Check the null values in both the dataframes"
   ]
  },
  {
   "cell_type": "code",
   "execution_count": 22,
   "metadata": {},
   "outputs": [
    {
     "data": {
      "text/plain": [
       "permalink            0\n",
       "name                 1\n",
       "homepage_url      5058\n",
       "category_list     3148\n",
       "status               0\n",
       "country_code      6958\n",
       "state_code        8547\n",
       "region            8030\n",
       "city              8028\n",
       "founded_at       15221\n",
       "dtype: int64"
      ]
     },
     "execution_count": 22,
     "metadata": {},
     "output_type": "execute_result"
    }
   ],
   "source": [
    "df_companies.isnull().sum()"
   ]
  },
  {
   "cell_type": "code",
   "execution_count": 23,
   "metadata": {},
   "outputs": [
    {
     "data": {
      "text/plain": [
       "company_permalink              0\n",
       "funding_round_permalink        0\n",
       "funding_round_type             0\n",
       "funding_round_code         83809\n",
       "funded_at                      0\n",
       "raised_amount_usd          19990\n",
       "dtype: int64"
      ]
     },
     "execution_count": 23,
     "metadata": {},
     "output_type": "execute_result"
    }
   ],
   "source": [
    "df_rounds.isnull().sum()"
   ]
  },
  {
   "cell_type": "markdown",
   "metadata": {},
   "source": [
    "#### Merge two dataframes in to  master_frame and proceed with further analysis"
   ]
  },
  {
   "cell_type": "code",
   "execution_count": 24,
   "metadata": {},
   "outputs": [],
   "source": [
    "## Merging on the permalink and company_permalink in both the data frames.\n",
    "master_frame = pd.merge(df_companies, df_rounds , how='inner' , left_on='permalink', right_on='company_permalink', sort=True)"
   ]
  },
  {
   "cell_type": "code",
   "execution_count": 25,
   "metadata": {},
   "outputs": [
    {
     "data": {
      "text/html": [
       "<div>\n",
       "<style scoped>\n",
       "    .dataframe tbody tr th:only-of-type {\n",
       "        vertical-align: middle;\n",
       "    }\n",
       "\n",
       "    .dataframe tbody tr th {\n",
       "        vertical-align: top;\n",
       "    }\n",
       "\n",
       "    .dataframe thead th {\n",
       "        text-align: right;\n",
       "    }\n",
       "</style>\n",
       "<table border=\"1\" class=\"dataframe\">\n",
       "  <thead>\n",
       "    <tr style=\"text-align: right;\">\n",
       "      <th></th>\n",
       "      <th>permalink</th>\n",
       "      <th>name</th>\n",
       "      <th>homepage_url</th>\n",
       "      <th>category_list</th>\n",
       "      <th>status</th>\n",
       "      <th>country_code</th>\n",
       "      <th>state_code</th>\n",
       "      <th>region</th>\n",
       "      <th>city</th>\n",
       "      <th>founded_at</th>\n",
       "      <th>company_permalink</th>\n",
       "      <th>funding_round_permalink</th>\n",
       "      <th>funding_round_type</th>\n",
       "      <th>funding_round_code</th>\n",
       "      <th>funded_at</th>\n",
       "      <th>raised_amount_usd</th>\n",
       "    </tr>\n",
       "  </thead>\n",
       "  <tbody>\n",
       "    <tr>\n",
       "      <th>0</th>\n",
       "      <td>/organization/-fame</td>\n",
       "      <td>#fame</td>\n",
       "      <td>http://livfame.com</td>\n",
       "      <td>Media</td>\n",
       "      <td>operating</td>\n",
       "      <td>IND</td>\n",
       "      <td>16</td>\n",
       "      <td>Mumbai</td>\n",
       "      <td>Mumbai</td>\n",
       "      <td>NaN</td>\n",
       "      <td>/organization/-fame</td>\n",
       "      <td>/funding-round/9a01d05418af9f794eebff7ace91f638</td>\n",
       "      <td>venture</td>\n",
       "      <td>B</td>\n",
       "      <td>05-01-2015</td>\n",
       "      <td>10000000.0</td>\n",
       "    </tr>\n",
       "    <tr>\n",
       "      <th>1</th>\n",
       "      <td>/organization/-qounter</td>\n",
       "      <td>:Qounter</td>\n",
       "      <td>http://www.qounter.com</td>\n",
       "      <td>Application Platforms|Real Time|Social Network...</td>\n",
       "      <td>operating</td>\n",
       "      <td>USA</td>\n",
       "      <td>DE</td>\n",
       "      <td>DE - Other</td>\n",
       "      <td>Delaware City</td>\n",
       "      <td>04-09-2014</td>\n",
       "      <td>/organization/-qounter</td>\n",
       "      <td>/funding-round/22dacff496eb7acb2b901dec1dfe5633</td>\n",
       "      <td>venture</td>\n",
       "      <td>A</td>\n",
       "      <td>14-10-2014</td>\n",
       "      <td>NaN</td>\n",
       "    </tr>\n",
       "    <tr>\n",
       "      <th>2</th>\n",
       "      <td>/organization/-qounter</td>\n",
       "      <td>:Qounter</td>\n",
       "      <td>http://www.qounter.com</td>\n",
       "      <td>Application Platforms|Real Time|Social Network...</td>\n",
       "      <td>operating</td>\n",
       "      <td>USA</td>\n",
       "      <td>DE</td>\n",
       "      <td>DE - Other</td>\n",
       "      <td>Delaware City</td>\n",
       "      <td>04-09-2014</td>\n",
       "      <td>/organization/-qounter</td>\n",
       "      <td>/funding-round/b44fbb94153f6cdef13083530bb48030</td>\n",
       "      <td>seed</td>\n",
       "      <td>NaN</td>\n",
       "      <td>01-03-2014</td>\n",
       "      <td>700000.0</td>\n",
       "    </tr>\n",
       "    <tr>\n",
       "      <th>3</th>\n",
       "      <td>/organization/-the-one-of-them-inc-</td>\n",
       "      <td>(THE) ONE of THEM,Inc.</td>\n",
       "      <td>http://oneofthem.jp</td>\n",
       "      <td>Apps|Games|Mobile</td>\n",
       "      <td>operating</td>\n",
       "      <td>NaN</td>\n",
       "      <td>NaN</td>\n",
       "      <td>NaN</td>\n",
       "      <td>NaN</td>\n",
       "      <td>NaN</td>\n",
       "      <td>/organization/-the-one-of-them-inc-</td>\n",
       "      <td>/funding-round/650b8f704416801069bb178a1418776b</td>\n",
       "      <td>venture</td>\n",
       "      <td>B</td>\n",
       "      <td>30-01-2014</td>\n",
       "      <td>3406878.0</td>\n",
       "    </tr>\n",
       "    <tr>\n",
       "      <th>4</th>\n",
       "      <td>/organization/0-6-com</td>\n",
       "      <td>0-6.com</td>\n",
       "      <td>http://www.0-6.com</td>\n",
       "      <td>Curated Web</td>\n",
       "      <td>operating</td>\n",
       "      <td>CHN</td>\n",
       "      <td>22</td>\n",
       "      <td>Beijing</td>\n",
       "      <td>Beijing</td>\n",
       "      <td>01-01-2007</td>\n",
       "      <td>/organization/0-6-com</td>\n",
       "      <td>/funding-round/5727accaeaa57461bd22a9bdd945382d</td>\n",
       "      <td>venture</td>\n",
       "      <td>A</td>\n",
       "      <td>19-03-2008</td>\n",
       "      <td>2000000.0</td>\n",
       "    </tr>\n",
       "  </tbody>\n",
       "</table>\n",
       "</div>"
      ],
      "text/plain": [
       "                             permalink                    name  \\\n",
       "0                  /organization/-fame                   #fame   \n",
       "1               /organization/-qounter                :Qounter   \n",
       "2               /organization/-qounter                :Qounter   \n",
       "3  /organization/-the-one-of-them-inc-  (THE) ONE of THEM,Inc.   \n",
       "4                /organization/0-6-com                 0-6.com   \n",
       "\n",
       "             homepage_url                                      category_list  \\\n",
       "0      http://livfame.com                                              Media   \n",
       "1  http://www.qounter.com  Application Platforms|Real Time|Social Network...   \n",
       "2  http://www.qounter.com  Application Platforms|Real Time|Social Network...   \n",
       "3     http://oneofthem.jp                                  Apps|Games|Mobile   \n",
       "4      http://www.0-6.com                                        Curated Web   \n",
       "\n",
       "      status country_code state_code      region           city  founded_at  \\\n",
       "0  operating          IND         16      Mumbai         Mumbai         NaN   \n",
       "1  operating          USA         DE  DE - Other  Delaware City  04-09-2014   \n",
       "2  operating          USA         DE  DE - Other  Delaware City  04-09-2014   \n",
       "3  operating          NaN        NaN         NaN            NaN         NaN   \n",
       "4  operating          CHN         22     Beijing        Beijing  01-01-2007   \n",
       "\n",
       "                     company_permalink  \\\n",
       "0                  /organization/-fame   \n",
       "1               /organization/-qounter   \n",
       "2               /organization/-qounter   \n",
       "3  /organization/-the-one-of-them-inc-   \n",
       "4                /organization/0-6-com   \n",
       "\n",
       "                           funding_round_permalink funding_round_type  \\\n",
       "0  /funding-round/9a01d05418af9f794eebff7ace91f638            venture   \n",
       "1  /funding-round/22dacff496eb7acb2b901dec1dfe5633            venture   \n",
       "2  /funding-round/b44fbb94153f6cdef13083530bb48030               seed   \n",
       "3  /funding-round/650b8f704416801069bb178a1418776b            venture   \n",
       "4  /funding-round/5727accaeaa57461bd22a9bdd945382d            venture   \n",
       "\n",
       "  funding_round_code   funded_at  raised_amount_usd  \n",
       "0                  B  05-01-2015         10000000.0  \n",
       "1                  A  14-10-2014                NaN  \n",
       "2                NaN  01-03-2014           700000.0  \n",
       "3                  B  30-01-2014          3406878.0  \n",
       "4                  A  19-03-2008          2000000.0  "
      ]
     },
     "execution_count": 25,
     "metadata": {},
     "output_type": "execute_result"
    }
   ],
   "source": [
    "master_frame.head()"
   ]
  },
  {
   "cell_type": "code",
   "execution_count": 26,
   "metadata": {},
   "outputs": [
    {
     "name": "stdout",
     "output_type": "stream",
     "text": [
      "<class 'pandas.core.frame.DataFrame'>\n",
      "Int64Index: 114949 entries, 0 to 114948\n",
      "Data columns (total 16 columns):\n",
      " #   Column                   Non-Null Count   Dtype  \n",
      "---  ------                   --------------   -----  \n",
      " 0   permalink                114949 non-null  object \n",
      " 1   name                     114948 non-null  object \n",
      " 2   homepage_url             108815 non-null  object \n",
      " 3   category_list            111539 non-null  object \n",
      " 4   status                   114949 non-null  object \n",
      " 5   country_code             106271 non-null  object \n",
      " 6   state_code               104003 non-null  object \n",
      " 7   region                   104782 non-null  object \n",
      " 8   city                     104785 non-null  object \n",
      " 9   founded_at               94428 non-null   object \n",
      " 10  company_permalink        114949 non-null  object \n",
      " 11  funding_round_permalink  114949 non-null  object \n",
      " 12  funding_round_type       114949 non-null  object \n",
      " 13  funding_round_code       31140 non-null   object \n",
      " 14  funded_at                114949 non-null  object \n",
      " 15  raised_amount_usd        94959 non-null   float64\n",
      "dtypes: float64(1), object(15)\n",
      "memory usage: 8.3+ MB\n"
     ]
    }
   ],
   "source": [
    "## Check the master_frame\n",
    "master_frame.info()"
   ]
  },
  {
   "cell_type": "code",
   "execution_count": 27,
   "metadata": {},
   "outputs": [
    {
     "data": {
      "text/plain": [
       "Index(['permalink', 'name', 'homepage_url', 'category_list', 'status',\n",
       "       'country_code', 'state_code', 'region', 'city', 'founded_at',\n",
       "       'company_permalink', 'funding_round_permalink', 'funding_round_type',\n",
       "       'funding_round_code', 'funded_at', 'raised_amount_usd'],\n",
       "      dtype='object')"
      ]
     },
     "execution_count": 27,
     "metadata": {},
     "output_type": "execute_result"
    }
   ],
   "source": [
    "## Check all the columns for master_frame\n",
    "master_frame.columns"
   ]
  },
  {
   "cell_type": "code",
   "execution_count": 28,
   "metadata": {},
   "outputs": [],
   "source": [
    "## Dropping the redundant column in the data frame\n",
    "master_frame.drop(['company_permalink'],axis=1,inplace=True)"
   ]
  },
  {
   "cell_type": "code",
   "execution_count": 29,
   "metadata": {},
   "outputs": [
    {
     "data": {
      "text/plain": [
       "Index(['permalink', 'name', 'homepage_url', 'category_list', 'status',\n",
       "       'country_code', 'state_code', 'region', 'city', 'founded_at',\n",
       "       'funding_round_permalink', 'funding_round_type', 'funding_round_code',\n",
       "       'funded_at', 'raised_amount_usd'],\n",
       "      dtype='object')"
      ]
     },
     "execution_count": 29,
     "metadata": {},
     "output_type": "execute_result"
    }
   ],
   "source": [
    "## Check if the company_permanlink is really dropped\n",
    "master_frame.columns"
   ]
  },
  {
   "cell_type": "code",
   "execution_count": 30,
   "metadata": {},
   "outputs": [
    {
     "data": {
      "text/plain": [
       "(114949, 15)"
      ]
     },
     "execution_count": 30,
     "metadata": {},
     "output_type": "execute_result"
    }
   ],
   "source": [
    "## How many observations present in master frame?\n",
    "master_frame.shape"
   ]
  },
  {
   "cell_type": "markdown",
   "metadata": {},
   "source": [
    "#### Table-1.1 - Understand the Data Set "
   ]
  },
  {
   "cell_type": "markdown",
   "metadata": {},
   "source": [
    "\n",
    "|                                                                                                                                                                                                                       |           |\n",
    "|:-----------------------------------------------------------------------------------------------------------------------------------------------------------------------------------------------------------------------|:-----------|\n",
    "|                                                                                                                                                                                                                       |           |\n",
    "|                                                                                                                                                                                                                       |           |\n",
    "|                                                                                                                                                                                                                       |           |\n",
    "|                                                                                                       **Questions**                                                                                                       |   **Answer**  |\n",
    "| How   many unique companies are present in rounds2?                                                                                                                                                                   | 66368     |\n",
    "| How   many unique companies are present in the companies file?                                                                                                                                                        | 66368     |\n",
    "| In   the companies data frame,   which column can be used as the  unique key for each company? Write the name of the column.                                                                                          | permalink |\n",
    "| Are   there any companies in the rounds2 file which are not  present in companies ? Answer Y/N.                                                                                                                       | N         |\n",
    "| Merge   the two data frames so that all  variables (columns)  in the companies frame are added to the rounds2 data frame. Name the   merged frame master_frame. How many observations are present in master_frame   ? | 114949    |\n",
    "\n"
   ]
  },
  {
   "cell_type": "code",
   "execution_count": 31,
   "metadata": {},
   "outputs": [
    {
     "name": "stdout",
     "output_type": "stream",
     "text": [
      "permalink                   0.0\n",
      "name                        0.0\n",
      "homepage_url                5.0\n",
      "category_list               3.0\n",
      "status                      0.0\n",
      "country_code                8.0\n",
      "state_code                 10.0\n",
      "region                      9.0\n",
      "city                        9.0\n",
      "founded_at                 18.0\n",
      "funding_round_permalink     0.0\n",
      "funding_round_type          0.0\n",
      "funding_round_code         73.0\n",
      "funded_at                   0.0\n",
      "raised_amount_usd          17.0\n",
      "dtype: float64\n"
     ]
    }
   ],
   "source": [
    "## Check the percentage null values in master_frame\n",
    "print(100* round(master_frame.isnull().sum()/len(master_frame.index),2))"
   ]
  },
  {
   "cell_type": "code",
   "execution_count": 32,
   "metadata": {},
   "outputs": [],
   "source": [
    "## Remove the columns not required for analysis\n",
    "## funding_round_code - high null values and not required\n",
    "## homepage_url , founded_at, state_code ,region , city are not relevant for analysis\n",
    "\n",
    "master_frame.drop(['funding_round_code','homepage_url','founded_at','state_code','region','city'],axis=1, inplace=True)"
   ]
  },
  {
   "cell_type": "code",
   "execution_count": 33,
   "metadata": {},
   "outputs": [
    {
     "name": "stdout",
     "output_type": "stream",
     "text": [
      "<class 'pandas.core.frame.DataFrame'>\n",
      "Int64Index: 114949 entries, 0 to 114948\n",
      "Data columns (total 9 columns):\n",
      " #   Column                   Non-Null Count   Dtype  \n",
      "---  ------                   --------------   -----  \n",
      " 0   permalink                114949 non-null  object \n",
      " 1   name                     114948 non-null  object \n",
      " 2   category_list            111539 non-null  object \n",
      " 3   status                   114949 non-null  object \n",
      " 4   country_code             106271 non-null  object \n",
      " 5   funding_round_permalink  114949 non-null  object \n",
      " 6   funding_round_type       114949 non-null  object \n",
      " 7   funded_at                114949 non-null  object \n",
      " 8   raised_amount_usd        94959 non-null   float64\n",
      "dtypes: float64(1), object(8)\n",
      "memory usage: 5.3+ MB\n"
     ]
    }
   ],
   "source": [
    "## Check if the desired columns have been dropped\n",
    "master_frame.info()"
   ]
  },
  {
   "cell_type": "code",
   "execution_count": 34,
   "metadata": {},
   "outputs": [
    {
     "data": {
      "text/plain": [
       "(114949, 9)"
      ]
     },
     "execution_count": 34,
     "metadata": {},
     "output_type": "execute_result"
    }
   ],
   "source": [
    "master_frame.shape"
   ]
  },
  {
   "cell_type": "code",
   "execution_count": 35,
   "metadata": {},
   "outputs": [
    {
     "data": {
      "text/plain": [
       "array(['operating', 'acquired', 'closed', 'ipo'], dtype=object)"
      ]
     },
     "execution_count": 35,
     "metadata": {},
     "output_type": "execute_result"
    }
   ],
   "source": [
    "## Get all the available status from master_frame status columns\n",
    "master_frame.status.unique()"
   ]
  },
  {
   "cell_type": "code",
   "execution_count": 36,
   "metadata": {},
   "outputs": [],
   "source": [
    "## Removing the companies with status 'closed' - assuming no funding is going to happen\n",
    "##master_frame=master_frame[master_frame.status!='closed']\n",
    "##master_frame.shape"
   ]
  },
  {
   "cell_type": "code",
   "execution_count": 37,
   "metadata": {},
   "outputs": [
    {
     "name": "stdout",
     "output_type": "stream",
     "text": [
      "<class 'pandas.core.frame.DataFrame'>\n",
      "Int64Index: 114949 entries, 0 to 114948\n",
      "Data columns (total 9 columns):\n",
      " #   Column                   Non-Null Count   Dtype  \n",
      "---  ------                   --------------   -----  \n",
      " 0   permalink                114949 non-null  object \n",
      " 1   name                     114948 non-null  object \n",
      " 2   category_list            111539 non-null  object \n",
      " 3   status                   114949 non-null  object \n",
      " 4   country_code             106271 non-null  object \n",
      " 5   funding_round_permalink  114949 non-null  object \n",
      " 6   funding_round_type       114949 non-null  object \n",
      " 7   funded_at                114949 non-null  object \n",
      " 8   raised_amount_usd        94959 non-null   float64\n",
      "dtypes: float64(1), object(8)\n",
      "memory usage: 5.3+ MB\n"
     ]
    }
   ],
   "source": [
    "master_frame.info()"
   ]
  },
  {
   "cell_type": "code",
   "execution_count": 38,
   "metadata": {},
   "outputs": [
    {
     "data": {
      "text/plain": [
       "count    9.495900e+04\n",
       "mean     1.042687e+07\n",
       "std      1.148212e+08\n",
       "min      0.000000e+00\n",
       "25%      3.225000e+05\n",
       "50%      1.680511e+06\n",
       "75%      7.000000e+06\n",
       "max      2.127194e+10\n",
       "Name: raised_amount_usd, dtype: float64"
      ]
     },
     "execution_count": 38,
     "metadata": {},
     "output_type": "execute_result"
    }
   ],
   "source": [
    "## raised_amount_usd details\n",
    "master_frame.raised_amount_usd.describe()"
   ]
  },
  {
   "cell_type": "code",
   "execution_count": 39,
   "metadata": {},
   "outputs": [],
   "source": [
    "## Remove the null values from raised_amount_usd\n",
    "\n",
    "master_frame=master_frame[pd.notnull(master_frame.raised_amount_usd)]"
   ]
  },
  {
   "cell_type": "code",
   "execution_count": 40,
   "metadata": {},
   "outputs": [
    {
     "data": {
      "text/plain": [
       "permalink                     0\n",
       "name                          1\n",
       "category_list              1044\n",
       "status                        0\n",
       "country_code               5851\n",
       "funding_round_permalink       0\n",
       "funding_round_type            0\n",
       "funded_at                     0\n",
       "raised_amount_usd             0\n",
       "dtype: int64"
      ]
     },
     "execution_count": 40,
     "metadata": {},
     "output_type": "execute_result"
    }
   ],
   "source": [
    "## verify if we have any null values \n",
    "master_frame.isnull().sum()"
   ]
  },
  {
   "cell_type": "code",
   "execution_count": 41,
   "metadata": {},
   "outputs": [
    {
     "data": {
      "text/plain": [
       "(94959, 9)"
      ]
     },
     "execution_count": 41,
     "metadata": {},
     "output_type": "execute_result"
    }
   ],
   "source": [
    "## check the master_frame again\n",
    "master_frame.shape\n"
   ]
  },
  {
   "cell_type": "code",
   "execution_count": 42,
   "metadata": {},
   "outputs": [
    {
     "name": "stdout",
     "output_type": "stream",
     "text": [
      "permalink                  0.0\n",
      "name                       0.0\n",
      "category_list              1.0\n",
      "status                     0.0\n",
      "country_code               6.0\n",
      "funding_round_permalink    0.0\n",
      "funding_round_type         0.0\n",
      "funded_at                  0.0\n",
      "raised_amount_usd          0.0\n",
      "dtype: float64\n"
     ]
    }
   ],
   "source": [
    "## checking for other null values\n",
    "print(100*round(master_frame.isnull().sum()/len(master_frame.index),2))"
   ]
  },
  {
   "cell_type": "code",
   "execution_count": 43,
   "metadata": {},
   "outputs": [
    {
     "data": {
      "text/plain": [
       "0         IND\n",
       "2         USA\n",
       "3         NaN\n",
       "4         CHN\n",
       "6         HKG\n",
       "         ... \n",
       "114943    HRV\n",
       "114944    HRV\n",
       "114945    HRV\n",
       "114946    USA\n",
       "114948    NaN\n",
       "Name: country_code, Length: 94959, dtype: category\n",
       "Categories (134, object): [ALB, ARE, ARG, ARM, ..., VNM, ZAF, ZMB, ZWE]"
      ]
     },
     "execution_count": 43,
     "metadata": {},
     "output_type": "execute_result"
    }
   ],
   "source": [
    "## Cast country code as category\n",
    "master_frame.country_code = master_frame.country_code.astype('category')\n",
    "master_frame.country_code"
   ]
  },
  {
   "cell_type": "code",
   "execution_count": 44,
   "metadata": {},
   "outputs": [
    {
     "data": {
      "text/plain": [
       "USA    62049\n",
       "GBR     5019\n",
       "CAN     2616\n",
       "CHN     1927\n",
       "IND     1649\n",
       "       ...  \n",
       "HND        1\n",
       "GRD        1\n",
       "GGY        1\n",
       "DZA        1\n",
       "KNA        1\n",
       "Name: country_code, Length: 134, dtype: int64"
      ]
     },
     "execution_count": 44,
     "metadata": {},
     "output_type": "execute_result"
    }
   ],
   "source": [
    "## Glossary check which country has got more investment\n",
    "master_frame.country_code.value_counts()"
   ]
  },
  {
   "cell_type": "code",
   "execution_count": 45,
   "metadata": {},
   "outputs": [],
   "source": [
    "## Remove the countries with null values\n",
    "master_frame = master_frame[pd.notnull(master_frame.country_code)]"
   ]
  },
  {
   "cell_type": "code",
   "execution_count": 46,
   "metadata": {},
   "outputs": [
    {
     "name": "stdout",
     "output_type": "stream",
     "text": [
      "permalink                  0.0\n",
      "name                       0.0\n",
      "category_list              1.0\n",
      "status                     0.0\n",
      "country_code               0.0\n",
      "funding_round_permalink    0.0\n",
      "funding_round_type         0.0\n",
      "funded_at                  0.0\n",
      "raised_amount_usd          0.0\n",
      "dtype: float64\n"
     ]
    }
   ],
   "source": [
    "## Checking for null values after removing null values in country_code\n",
    "print(100*round(master_frame.isnull().sum()/len(master_frame.index),2))"
   ]
  },
  {
   "cell_type": "code",
   "execution_count": 47,
   "metadata": {},
   "outputs": [],
   "source": [
    "## Remove all the null values in category_list\n",
    "master_frame = master_frame[pd.notnull(master_frame.category_list)]"
   ]
  },
  {
   "cell_type": "code",
   "execution_count": 48,
   "metadata": {},
   "outputs": [
    {
     "data": {
      "text/plain": [
       "(88529, 9)"
      ]
     },
     "execution_count": 48,
     "metadata": {},
     "output_type": "execute_result"
    }
   ],
   "source": [
    "## Check for the shape after removing nulls\n",
    "master_frame.shape"
   ]
  },
  {
   "cell_type": "code",
   "execution_count": 49,
   "metadata": {},
   "outputs": [
    {
     "data": {
      "text/plain": [
       "77.01589400516751"
      ]
     },
     "execution_count": 49,
     "metadata": {},
     "output_type": "execute_result"
    }
   ],
   "source": [
    "## Percentage of values retained after missing treatment\n",
    "100*(len(master_frame.index) / len(df_rounds.index))"
   ]
  },
  {
   "cell_type": "markdown",
   "metadata": {},
   "source": [
    "# 02. Data Analysis"
   ]
  },
  {
   "cell_type": "markdown",
   "metadata": {},
   "source": [
    "#### Checkpoint 2: Funding Type Analysis"
   ]
  },
  {
   "cell_type": "code",
   "execution_count": 50,
   "metadata": {},
   "outputs": [
    {
     "data": {
      "text/html": [
       "<div>\n",
       "<style scoped>\n",
       "    .dataframe tbody tr th:only-of-type {\n",
       "        vertical-align: middle;\n",
       "    }\n",
       "\n",
       "    .dataframe tbody tr th {\n",
       "        vertical-align: top;\n",
       "    }\n",
       "\n",
       "    .dataframe thead th {\n",
       "        text-align: right;\n",
       "    }\n",
       "</style>\n",
       "<table border=\"1\" class=\"dataframe\">\n",
       "  <thead>\n",
       "    <tr style=\"text-align: right;\">\n",
       "      <th></th>\n",
       "      <th>permalink</th>\n",
       "      <th>name</th>\n",
       "      <th>category_list</th>\n",
       "      <th>status</th>\n",
       "      <th>country_code</th>\n",
       "      <th>funding_round_permalink</th>\n",
       "      <th>funding_round_type</th>\n",
       "      <th>funded_at</th>\n",
       "      <th>raised_amount_usd</th>\n",
       "    </tr>\n",
       "  </thead>\n",
       "  <tbody>\n",
       "    <tr>\n",
       "      <th>0</th>\n",
       "      <td>/organization/-fame</td>\n",
       "      <td>#fame</td>\n",
       "      <td>Media</td>\n",
       "      <td>operating</td>\n",
       "      <td>IND</td>\n",
       "      <td>/funding-round/9a01d05418af9f794eebff7ace91f638</td>\n",
       "      <td>venture</td>\n",
       "      <td>05-01-2015</td>\n",
       "      <td>10000000.0</td>\n",
       "    </tr>\n",
       "    <tr>\n",
       "      <th>2</th>\n",
       "      <td>/organization/-qounter</td>\n",
       "      <td>:Qounter</td>\n",
       "      <td>Application Platforms|Real Time|Social Network...</td>\n",
       "      <td>operating</td>\n",
       "      <td>USA</td>\n",
       "      <td>/funding-round/b44fbb94153f6cdef13083530bb48030</td>\n",
       "      <td>seed</td>\n",
       "      <td>01-03-2014</td>\n",
       "      <td>700000.0</td>\n",
       "    </tr>\n",
       "    <tr>\n",
       "      <th>4</th>\n",
       "      <td>/organization/0-6-com</td>\n",
       "      <td>0-6.com</td>\n",
       "      <td>Curated Web</td>\n",
       "      <td>operating</td>\n",
       "      <td>CHN</td>\n",
       "      <td>/funding-round/5727accaeaa57461bd22a9bdd945382d</td>\n",
       "      <td>venture</td>\n",
       "      <td>19-03-2008</td>\n",
       "      <td>2000000.0</td>\n",
       "    </tr>\n",
       "    <tr>\n",
       "      <th>6</th>\n",
       "      <td>/organization/01games-technology</td>\n",
       "      <td>01Games Technology</td>\n",
       "      <td>Games</td>\n",
       "      <td>operating</td>\n",
       "      <td>HKG</td>\n",
       "      <td>/funding-round/7d53696f2b4f607a2f2a8cbb83d01839</td>\n",
       "      <td>undisclosed</td>\n",
       "      <td>01-07-2014</td>\n",
       "      <td>41250.0</td>\n",
       "    </tr>\n",
       "    <tr>\n",
       "      <th>7</th>\n",
       "      <td>/organization/0ndine-biomedical-inc</td>\n",
       "      <td>Ondine Biomedical Inc.</td>\n",
       "      <td>Biotechnology</td>\n",
       "      <td>operating</td>\n",
       "      <td>CAN</td>\n",
       "      <td>/funding-round/2b9d3ac293d5cdccbecff5c8cb0f327d</td>\n",
       "      <td>seed</td>\n",
       "      <td>11-09-2009</td>\n",
       "      <td>43360.0</td>\n",
       "    </tr>\n",
       "  </tbody>\n",
       "</table>\n",
       "</div>"
      ],
      "text/plain": [
       "                             permalink                    name  \\\n",
       "0                  /organization/-fame                   #fame   \n",
       "2               /organization/-qounter                :Qounter   \n",
       "4                /organization/0-6-com                 0-6.com   \n",
       "6     /organization/01games-technology      01Games Technology   \n",
       "7  /organization/0ndine-biomedical-inc  Ondine Biomedical Inc.   \n",
       "\n",
       "                                       category_list     status country_code  \\\n",
       "0                                              Media  operating          IND   \n",
       "2  Application Platforms|Real Time|Social Network...  operating          USA   \n",
       "4                                        Curated Web  operating          CHN   \n",
       "6                                              Games  operating          HKG   \n",
       "7                                      Biotechnology  operating          CAN   \n",
       "\n",
       "                           funding_round_permalink funding_round_type  \\\n",
       "0  /funding-round/9a01d05418af9f794eebff7ace91f638            venture   \n",
       "2  /funding-round/b44fbb94153f6cdef13083530bb48030               seed   \n",
       "4  /funding-round/5727accaeaa57461bd22a9bdd945382d            venture   \n",
       "6  /funding-round/7d53696f2b4f607a2f2a8cbb83d01839        undisclosed   \n",
       "7  /funding-round/2b9d3ac293d5cdccbecff5c8cb0f327d               seed   \n",
       "\n",
       "    funded_at  raised_amount_usd  \n",
       "0  05-01-2015         10000000.0  \n",
       "2  01-03-2014           700000.0  \n",
       "4  19-03-2008          2000000.0  \n",
       "6  01-07-2014            41250.0  \n",
       "7  11-09-2009            43360.0  "
      ]
     },
     "execution_count": 50,
     "metadata": {},
     "output_type": "execute_result"
    }
   ],
   "source": [
    "## master_frame headers\n",
    "master_frame.head()"
   ]
  },
  {
   "cell_type": "code",
   "execution_count": 51,
   "metadata": {},
   "outputs": [
    {
     "data": {
      "text/plain": [
       "dtype('float64')"
      ]
     },
     "execution_count": 51,
     "metadata": {},
     "output_type": "execute_result"
    }
   ],
   "source": [
    "## checking the data type for raised_amount_usd\n",
    "master_frame.raised_amount_usd.dtype"
   ]
  },
  {
   "cell_type": "code",
   "execution_count": 52,
   "metadata": {},
   "outputs": [
    {
     "data": {
      "text/plain": [
       "array(['venture', 'seed', 'undisclosed', 'convertible_note',\n",
       "       'private_equity', 'debt_financing', 'angel', 'grant',\n",
       "       'equity_crowdfunding', 'post_ipo_equity', 'post_ipo_debt',\n",
       "       'product_crowdfunding', 'secondary_market',\n",
       "       'non_equity_assistance'], dtype=object)"
      ]
     },
     "execution_count": 52,
     "metadata": {},
     "output_type": "execute_result"
    }
   ],
   "source": [
    "## check what all funding rounds available.\n",
    "master_frame.funding_round_type.unique()"
   ]
  },
  {
   "cell_type": "code",
   "execution_count": 53,
   "metadata": {},
   "outputs": [],
   "source": [
    "## Filter out the dataframe based on funding rounds - venture , angel ,seed , private equity \n",
    "master_frame = master_frame[master_frame.funding_round_type.isin(['venture', 'angel','seed','private_equity'])]\n",
    "## This is the snapshot will be used for plotting\n",
    "master_frame_ft=master_frame"
   ]
  },
  {
   "cell_type": "code",
   "execution_count": 54,
   "metadata": {},
   "outputs": [
    {
     "data": {
      "text/plain": [
       "(75124, 9)"
      ]
     },
     "execution_count": 54,
     "metadata": {},
     "output_type": "execute_result"
    }
   ],
   "source": [
    "## master_frame shape with - venture , angel ,seed,private_equity\n",
    "master_frame.shape"
   ]
  },
  {
   "cell_type": "code",
   "execution_count": 55,
   "metadata": {},
   "outputs": [
    {
     "data": {
      "text/plain": [
       "array(['venture', 'seed', 'private_equity', 'angel'], dtype=object)"
      ]
     },
     "execution_count": 55,
     "metadata": {},
     "output_type": "execute_result"
    }
   ],
   "source": [
    "## check whether the other funding rounds have been removed.\n",
    "master_frame.funding_round_type.unique()"
   ]
  },
  {
   "cell_type": "code",
   "execution_count": 56,
   "metadata": {},
   "outputs": [],
   "source": [
    "## aggregate raised_amount_usd for each of the investment type\n",
    "master_frame_pivot=pd.pivot_table(master_frame , values='raised_amount_usd' , index=['funding_round_type'],aggfunc=[np.mean,np.median])"
   ]
  },
  {
   "cell_type": "code",
   "execution_count": 57,
   "metadata": {},
   "outputs": [
    {
     "data": {
      "text/html": [
       "<div>\n",
       "<style scoped>\n",
       "    .dataframe tbody tr th:only-of-type {\n",
       "        vertical-align: middle;\n",
       "    }\n",
       "\n",
       "    .dataframe tbody tr th {\n",
       "        vertical-align: top;\n",
       "    }\n",
       "\n",
       "    .dataframe thead th {\n",
       "        text-align: right;\n",
       "    }\n",
       "</style>\n",
       "<table border=\"1\" class=\"dataframe\">\n",
       "  <thead>\n",
       "    <tr style=\"text-align: right;\">\n",
       "      <th></th>\n",
       "      <th>mean_raised_amount_usd</th>\n",
       "      <th>median_raised_amount_usd</th>\n",
       "    </tr>\n",
       "    <tr>\n",
       "      <th>funding_round_type</th>\n",
       "      <th></th>\n",
       "      <th></th>\n",
       "    </tr>\n",
       "  </thead>\n",
       "  <tbody>\n",
       "    <tr>\n",
       "      <th>angel</th>\n",
       "      <td>9.715739e+05</td>\n",
       "      <td>414906.0</td>\n",
       "    </tr>\n",
       "    <tr>\n",
       "      <th>private_equity</th>\n",
       "      <td>7.393849e+07</td>\n",
       "      <td>20000000.0</td>\n",
       "    </tr>\n",
       "    <tr>\n",
       "      <th>seed</th>\n",
       "      <td>7.477937e+05</td>\n",
       "      <td>300000.0</td>\n",
       "    </tr>\n",
       "    <tr>\n",
       "      <th>venture</th>\n",
       "      <td>1.172422e+07</td>\n",
       "      <td>5000000.0</td>\n",
       "    </tr>\n",
       "  </tbody>\n",
       "</table>\n",
       "</div>"
      ],
      "text/plain": [
       "                    mean_raised_amount_usd  median_raised_amount_usd\n",
       "funding_round_type                                                  \n",
       "angel                         9.715739e+05                  414906.0\n",
       "private_equity                7.393849e+07                20000000.0\n",
       "seed                          7.477937e+05                  300000.0\n",
       "venture                       1.172422e+07                 5000000.0"
      ]
     },
     "execution_count": 57,
     "metadata": {},
     "output_type": "execute_result"
    }
   ],
   "source": [
    "## print the pivot table\n",
    "master_frame_pivot.columns = [\"_\".join((i,j)) for i,j in master_frame_pivot.columns]\n",
    "master_frame_pivot\n"
   ]
  },
  {
   "cell_type": "code",
   "execution_count": 58,
   "metadata": {},
   "outputs": [
    {
     "name": "stdout",
     "output_type": "stream",
     "text": [
      "<class 'pandas.core.frame.DataFrame'>\n",
      "Index: 4 entries, angel to venture\n",
      "Data columns (total 2 columns):\n",
      " #   Column                    Non-Null Count  Dtype  \n",
      "---  ------                    --------------  -----  \n",
      " 0   mean_raised_amount_usd    4 non-null      float64\n",
      " 1   median_raised_amount_usd  4 non-null      float64\n",
      "dtypes: float64(2)\n",
      "memory usage: 80.0+ bytes\n"
     ]
    }
   ],
   "source": [
    "master_frame_pivot.info()"
   ]
  },
  {
   "cell_type": "code",
   "execution_count": 59,
   "metadata": {},
   "outputs": [],
   "source": [
    "## Add a columns for the pivot table - converting to millions\n",
    "master_frame_pivot['mean in ($) millions'] = '$' + (round(master_frame_pivot['mean_raised_amount_usd']/1000000,2)).astype(str) + 'MM'\n",
    "master_frame_pivot['median in ($) millions'] = '$' + (round(master_frame_pivot['median_raised_amount_usd']/1000000,2)).astype(str) + 'MM'"
   ]
  },
  {
   "cell_type": "code",
   "execution_count": 60,
   "metadata": {},
   "outputs": [
    {
     "data": {
      "text/html": [
       "<div>\n",
       "<style scoped>\n",
       "    .dataframe tbody tr th:only-of-type {\n",
       "        vertical-align: middle;\n",
       "    }\n",
       "\n",
       "    .dataframe tbody tr th {\n",
       "        vertical-align: top;\n",
       "    }\n",
       "\n",
       "    .dataframe thead th {\n",
       "        text-align: right;\n",
       "    }\n",
       "</style>\n",
       "<table border=\"1\" class=\"dataframe\">\n",
       "  <thead>\n",
       "    <tr style=\"text-align: right;\">\n",
       "      <th></th>\n",
       "      <th>mean in ($) millions</th>\n",
       "      <th>median in ($) millions</th>\n",
       "    </tr>\n",
       "    <tr>\n",
       "      <th>funding_round_type</th>\n",
       "      <th></th>\n",
       "      <th></th>\n",
       "    </tr>\n",
       "  </thead>\n",
       "  <tbody>\n",
       "    <tr>\n",
       "      <th>angel</th>\n",
       "      <td>$0.97MM</td>\n",
       "      <td>$0.41MM</td>\n",
       "    </tr>\n",
       "    <tr>\n",
       "      <th>private_equity</th>\n",
       "      <td>$73.94MM</td>\n",
       "      <td>$20.0MM</td>\n",
       "    </tr>\n",
       "    <tr>\n",
       "      <th>seed</th>\n",
       "      <td>$0.75MM</td>\n",
       "      <td>$0.3MM</td>\n",
       "    </tr>\n",
       "    <tr>\n",
       "      <th>venture</th>\n",
       "      <td>$11.72MM</td>\n",
       "      <td>$5.0MM</td>\n",
       "    </tr>\n",
       "  </tbody>\n",
       "</table>\n",
       "</div>"
      ],
      "text/plain": [
       "                   mean in ($) millions median in ($) millions\n",
       "funding_round_type                                            \n",
       "angel                           $0.97MM                $0.41MM\n",
       "private_equity                 $73.94MM                $20.0MM\n",
       "seed                            $0.75MM                 $0.3MM\n",
       "venture                        $11.72MM                 $5.0MM"
      ]
     },
     "execution_count": 60,
     "metadata": {},
     "output_type": "execute_result"
    }
   ],
   "source": [
    "## Dropping some unnecessary columns\n",
    "master_frame_pivot.drop(['mean_raised_amount_usd','median_raised_amount_usd'],axis=1,inplace=True)\n",
    "master_frame_pivot"
   ]
  },
  {
   "cell_type": "markdown",
   "metadata": {},
   "source": [
    "#### Table 2.1-  Average Values of Investments for Each of these Funding Types\n",
    "\n",
    "Average funding amount of venture type\n",
    "**$11.72M**\n",
    "\n",
    "Average funding amount of angel type\t\n",
    "**$0.97M**\n",
    "\n",
    "Average funding amount of seed type\t\n",
    "**$0.75M**\n",
    "\n",
    "Average funding amount of private equity type\n",
    "**$73.94M**\n",
    "\n",
    "Considering that Spark Funds wants to invest between 5 to 15 million USD per  investment round, which investment type is the most suitable for them?\n",
    "**Venture**\n"
   ]
  },
  {
   "cell_type": "markdown",
   "metadata": {},
   "source": [
    "#### Checkpoint 3: Country Analysis"
   ]
  },
  {
   "cell_type": "code",
   "execution_count": 61,
   "metadata": {},
   "outputs": [
    {
     "data": {
      "text/html": [
       "<div>\n",
       "<style scoped>\n",
       "    .dataframe tbody tr th:only-of-type {\n",
       "        vertical-align: middle;\n",
       "    }\n",
       "\n",
       "    .dataframe tbody tr th {\n",
       "        vertical-align: top;\n",
       "    }\n",
       "\n",
       "    .dataframe thead th {\n",
       "        text-align: right;\n",
       "    }\n",
       "</style>\n",
       "<table border=\"1\" class=\"dataframe\">\n",
       "  <thead>\n",
       "    <tr style=\"text-align: right;\">\n",
       "      <th></th>\n",
       "      <th>permalink</th>\n",
       "      <th>name</th>\n",
       "      <th>category_list</th>\n",
       "      <th>status</th>\n",
       "      <th>country_code</th>\n",
       "      <th>funding_round_permalink</th>\n",
       "      <th>funding_round_type</th>\n",
       "      <th>funded_at</th>\n",
       "      <th>raised_amount_usd</th>\n",
       "    </tr>\n",
       "  </thead>\n",
       "  <tbody>\n",
       "    <tr>\n",
       "      <th>0</th>\n",
       "      <td>/organization/-fame</td>\n",
       "      <td>#fame</td>\n",
       "      <td>Media</td>\n",
       "      <td>operating</td>\n",
       "      <td>IND</td>\n",
       "      <td>/funding-round/9a01d05418af9f794eebff7ace91f638</td>\n",
       "      <td>venture</td>\n",
       "      <td>05-01-2015</td>\n",
       "      <td>10000000.0</td>\n",
       "    </tr>\n",
       "    <tr>\n",
       "      <th>4</th>\n",
       "      <td>/organization/0-6-com</td>\n",
       "      <td>0-6.com</td>\n",
       "      <td>Curated Web</td>\n",
       "      <td>operating</td>\n",
       "      <td>CHN</td>\n",
       "      <td>/funding-round/5727accaeaa57461bd22a9bdd945382d</td>\n",
       "      <td>venture</td>\n",
       "      <td>19-03-2008</td>\n",
       "      <td>2000000.0</td>\n",
       "    </tr>\n",
       "    <tr>\n",
       "      <th>8</th>\n",
       "      <td>/organization/0ndine-biomedical-inc</td>\n",
       "      <td>Ondine Biomedical Inc.</td>\n",
       "      <td>Biotechnology</td>\n",
       "      <td>operating</td>\n",
       "      <td>CAN</td>\n",
       "      <td>/funding-round/954b9499724b946ad8c396a57a5f3b72</td>\n",
       "      <td>venture</td>\n",
       "      <td>21-12-2009</td>\n",
       "      <td>719491.0</td>\n",
       "    </tr>\n",
       "    <tr>\n",
       "      <th>10</th>\n",
       "      <td>/organization/0xdata</td>\n",
       "      <td>H2O.ai</td>\n",
       "      <td>Analytics</td>\n",
       "      <td>operating</td>\n",
       "      <td>USA</td>\n",
       "      <td>/funding-round/3bb2ee4a2d89251a10aaa735b1180e44</td>\n",
       "      <td>venture</td>\n",
       "      <td>09-11-2015</td>\n",
       "      <td>20000000.0</td>\n",
       "    </tr>\n",
       "    <tr>\n",
       "      <th>11</th>\n",
       "      <td>/organization/0xdata</td>\n",
       "      <td>H2O.ai</td>\n",
       "      <td>Analytics</td>\n",
       "      <td>operating</td>\n",
       "      <td>USA</td>\n",
       "      <td>/funding-round/ae2a174c06517c2394aed45006322a7e</td>\n",
       "      <td>venture</td>\n",
       "      <td>03-01-2013</td>\n",
       "      <td>1700000.0</td>\n",
       "    </tr>\n",
       "  </tbody>\n",
       "</table>\n",
       "</div>"
      ],
      "text/plain": [
       "                              permalink                    name  \\\n",
       "0                   /organization/-fame                   #fame   \n",
       "4                 /organization/0-6-com                 0-6.com   \n",
       "8   /organization/0ndine-biomedical-inc  Ondine Biomedical Inc.   \n",
       "10                 /organization/0xdata                  H2O.ai   \n",
       "11                 /organization/0xdata                  H2O.ai   \n",
       "\n",
       "    category_list     status country_code  \\\n",
       "0           Media  operating          IND   \n",
       "4     Curated Web  operating          CHN   \n",
       "8   Biotechnology  operating          CAN   \n",
       "10      Analytics  operating          USA   \n",
       "11      Analytics  operating          USA   \n",
       "\n",
       "                            funding_round_permalink funding_round_type  \\\n",
       "0   /funding-round/9a01d05418af9f794eebff7ace91f638            venture   \n",
       "4   /funding-round/5727accaeaa57461bd22a9bdd945382d            venture   \n",
       "8   /funding-round/954b9499724b946ad8c396a57a5f3b72            venture   \n",
       "10  /funding-round/3bb2ee4a2d89251a10aaa735b1180e44            venture   \n",
       "11  /funding-round/ae2a174c06517c2394aed45006322a7e            venture   \n",
       "\n",
       "     funded_at  raised_amount_usd  \n",
       "0   05-01-2015         10000000.0  \n",
       "4   19-03-2008          2000000.0  \n",
       "8   21-12-2009           719491.0  \n",
       "10  09-11-2015         20000000.0  \n",
       "11  03-01-2013          1700000.0  "
      ]
     },
     "execution_count": 61,
     "metadata": {},
     "output_type": "execute_result"
    }
   ],
   "source": [
    "## Based on the analysis- it appears venture is the preferable investment type\n",
    "master_frame = master_frame[master_frame.funding_round_type=='venture']\n",
    "master_frame.head()\n"
   ]
  },
  {
   "cell_type": "code",
   "execution_count": 62,
   "metadata": {},
   "outputs": [
    {
     "data": {
      "text/plain": [
       "(47809, 9)"
      ]
     },
     "execution_count": 62,
     "metadata": {},
     "output_type": "execute_result"
    }
   ],
   "source": [
    "master_frame.shape"
   ]
  },
  {
   "cell_type": "code",
   "execution_count": 63,
   "metadata": {},
   "outputs": [],
   "source": [
    "## Total investments per country\n",
    "countrywise_total_investments = master_frame.groupby(['country_code'],as_index=False)['raised_amount_usd'].sum().sort_values(['raised_amount_usd'],ascending=False)"
   ]
  },
  {
   "cell_type": "code",
   "execution_count": 64,
   "metadata": {},
   "outputs": [
    {
     "data": {
      "text/html": [
       "<div>\n",
       "<style scoped>\n",
       "    .dataframe tbody tr th:only-of-type {\n",
       "        vertical-align: middle;\n",
       "    }\n",
       "\n",
       "    .dataframe tbody tr th {\n",
       "        vertical-align: top;\n",
       "    }\n",
       "\n",
       "    .dataframe thead th {\n",
       "        text-align: right;\n",
       "    }\n",
       "</style>\n",
       "<table border=\"1\" class=\"dataframe\">\n",
       "  <thead>\n",
       "    <tr style=\"text-align: right;\">\n",
       "      <th></th>\n",
       "      <th>country_code</th>\n",
       "      <th>raised_amount_usd</th>\n",
       "    </tr>\n",
       "  </thead>\n",
       "  <tbody>\n",
       "    <tr>\n",
       "      <th>127</th>\n",
       "      <td>USA</td>\n",
       "      <td>4.200680e+11</td>\n",
       "    </tr>\n",
       "    <tr>\n",
       "      <th>22</th>\n",
       "      <td>CHN</td>\n",
       "      <td>3.933892e+10</td>\n",
       "    </tr>\n",
       "    <tr>\n",
       "      <th>41</th>\n",
       "      <td>GBR</td>\n",
       "      <td>2.007281e+10</td>\n",
       "    </tr>\n",
       "    <tr>\n",
       "      <th>54</th>\n",
       "      <td>IND</td>\n",
       "      <td>1.426151e+10</td>\n",
       "    </tr>\n",
       "    <tr>\n",
       "      <th>19</th>\n",
       "      <td>CAN</td>\n",
       "      <td>9.482218e+09</td>\n",
       "    </tr>\n",
       "    <tr>\n",
       "      <th>...</th>\n",
       "      <td>...</td>\n",
       "      <td>...</td>\n",
       "    </tr>\n",
       "    <tr>\n",
       "      <th>88</th>\n",
       "      <td>NIC</td>\n",
       "      <td>0.000000e+00</td>\n",
       "    </tr>\n",
       "    <tr>\n",
       "      <th>91</th>\n",
       "      <td>NPL</td>\n",
       "      <td>0.000000e+00</td>\n",
       "    </tr>\n",
       "    <tr>\n",
       "      <th>93</th>\n",
       "      <td>OMN</td>\n",
       "      <td>0.000000e+00</td>\n",
       "    </tr>\n",
       "    <tr>\n",
       "      <th>101</th>\n",
       "      <td>PRY</td>\n",
       "      <td>0.000000e+00</td>\n",
       "    </tr>\n",
       "    <tr>\n",
       "      <th>133</th>\n",
       "      <td>ZWE</td>\n",
       "      <td>0.000000e+00</td>\n",
       "    </tr>\n",
       "  </tbody>\n",
       "</table>\n",
       "<p>134 rows × 2 columns</p>\n",
       "</div>"
      ],
      "text/plain": [
       "    country_code  raised_amount_usd\n",
       "127          USA       4.200680e+11\n",
       "22           CHN       3.933892e+10\n",
       "41           GBR       2.007281e+10\n",
       "54           IND       1.426151e+10\n",
       "19           CAN       9.482218e+09\n",
       "..           ...                ...\n",
       "88           NIC       0.000000e+00\n",
       "91           NPL       0.000000e+00\n",
       "93           OMN       0.000000e+00\n",
       "101          PRY       0.000000e+00\n",
       "133          ZWE       0.000000e+00\n",
       "\n",
       "[134 rows x 2 columns]"
      ]
     },
     "execution_count": 64,
     "metadata": {},
     "output_type": "execute_result"
    }
   ],
   "source": [
    "countrywise_total_investments"
   ]
  },
  {
   "cell_type": "code",
   "execution_count": 65,
   "metadata": {},
   "outputs": [],
   "source": [
    "## Select top 9 countries\n",
    "top9 = countrywise_total_investments[:9]"
   ]
  },
  {
   "cell_type": "code",
   "execution_count": 66,
   "metadata": {},
   "outputs": [
    {
     "data": {
      "text/html": [
       "<div>\n",
       "<style scoped>\n",
       "    .dataframe tbody tr th:only-of-type {\n",
       "        vertical-align: middle;\n",
       "    }\n",
       "\n",
       "    .dataframe tbody tr th {\n",
       "        vertical-align: top;\n",
       "    }\n",
       "\n",
       "    .dataframe thead th {\n",
       "        text-align: right;\n",
       "    }\n",
       "</style>\n",
       "<table border=\"1\" class=\"dataframe\">\n",
       "  <thead>\n",
       "    <tr style=\"text-align: right;\">\n",
       "      <th></th>\n",
       "      <th>country_code</th>\n",
       "      <th>raised_amount_usd</th>\n",
       "    </tr>\n",
       "  </thead>\n",
       "  <tbody>\n",
       "    <tr>\n",
       "      <th>127</th>\n",
       "      <td>USA</td>\n",
       "      <td>4.200680e+11</td>\n",
       "    </tr>\n",
       "    <tr>\n",
       "      <th>22</th>\n",
       "      <td>CHN</td>\n",
       "      <td>3.933892e+10</td>\n",
       "    </tr>\n",
       "    <tr>\n",
       "      <th>41</th>\n",
       "      <td>GBR</td>\n",
       "      <td>2.007281e+10</td>\n",
       "    </tr>\n",
       "    <tr>\n",
       "      <th>54</th>\n",
       "      <td>IND</td>\n",
       "      <td>1.426151e+10</td>\n",
       "    </tr>\n",
       "    <tr>\n",
       "      <th>19</th>\n",
       "      <td>CAN</td>\n",
       "      <td>9.482218e+09</td>\n",
       "    </tr>\n",
       "    <tr>\n",
       "      <th>40</th>\n",
       "      <td>FRA</td>\n",
       "      <td>7.226851e+09</td>\n",
       "    </tr>\n",
       "    <tr>\n",
       "      <th>58</th>\n",
       "      <td>ISR</td>\n",
       "      <td>6.854350e+09</td>\n",
       "    </tr>\n",
       "    <tr>\n",
       "      <th>30</th>\n",
       "      <td>DEU</td>\n",
       "      <td>6.306922e+09</td>\n",
       "    </tr>\n",
       "    <tr>\n",
       "      <th>62</th>\n",
       "      <td>JPN</td>\n",
       "      <td>3.167647e+09</td>\n",
       "    </tr>\n",
       "  </tbody>\n",
       "</table>\n",
       "</div>"
      ],
      "text/plain": [
       "    country_code  raised_amount_usd\n",
       "127          USA       4.200680e+11\n",
       "22           CHN       3.933892e+10\n",
       "41           GBR       2.007281e+10\n",
       "54           IND       1.426151e+10\n",
       "19           CAN       9.482218e+09\n",
       "40           FRA       7.226851e+09\n",
       "58           ISR       6.854350e+09\n",
       "30           DEU       6.306922e+09\n",
       "62           JPN       3.167647e+09"
      ]
     },
     "execution_count": 66,
     "metadata": {},
     "output_type": "execute_result"
    }
   ],
   "source": [
    "top9"
   ]
  },
  {
   "cell_type": "markdown",
   "metadata": {},
   "source": [
    "**It appears from the list - USA , GBR , IND are the top three countries where the official language is english.**\n",
    "**<a  href=\"https://en.wikipedia.org/wiki/List_of_territorial_entities_where_English_is_an_official_language\">Reference</a>**"
   ]
  },
  {
   "cell_type": "code",
   "execution_count": 67,
   "metadata": {},
   "outputs": [
    {
     "data": {
      "text/html": [
       "<div>\n",
       "<style scoped>\n",
       "    .dataframe tbody tr th:only-of-type {\n",
       "        vertical-align: middle;\n",
       "    }\n",
       "\n",
       "    .dataframe tbody tr th {\n",
       "        vertical-align: top;\n",
       "    }\n",
       "\n",
       "    .dataframe thead th {\n",
       "        text-align: right;\n",
       "    }\n",
       "</style>\n",
       "<table border=\"1\" class=\"dataframe\">\n",
       "  <thead>\n",
       "    <tr style=\"text-align: right;\">\n",
       "      <th></th>\n",
       "      <th>permalink</th>\n",
       "      <th>name</th>\n",
       "      <th>category_list</th>\n",
       "      <th>status</th>\n",
       "      <th>country_code</th>\n",
       "      <th>funding_round_permalink</th>\n",
       "      <th>funding_round_type</th>\n",
       "      <th>funded_at</th>\n",
       "      <th>raised_amount_usd</th>\n",
       "    </tr>\n",
       "  </thead>\n",
       "  <tbody>\n",
       "    <tr>\n",
       "      <th>0</th>\n",
       "      <td>/organization/-fame</td>\n",
       "      <td>#fame</td>\n",
       "      <td>Media</td>\n",
       "      <td>operating</td>\n",
       "      <td>IND</td>\n",
       "      <td>/funding-round/9a01d05418af9f794eebff7ace91f638</td>\n",
       "      <td>venture</td>\n",
       "      <td>05-01-2015</td>\n",
       "      <td>10000000.0</td>\n",
       "    </tr>\n",
       "    <tr>\n",
       "      <th>10</th>\n",
       "      <td>/organization/0xdata</td>\n",
       "      <td>H2O.ai</td>\n",
       "      <td>Analytics</td>\n",
       "      <td>operating</td>\n",
       "      <td>USA</td>\n",
       "      <td>/funding-round/3bb2ee4a2d89251a10aaa735b1180e44</td>\n",
       "      <td>venture</td>\n",
       "      <td>09-11-2015</td>\n",
       "      <td>20000000.0</td>\n",
       "    </tr>\n",
       "    <tr>\n",
       "      <th>11</th>\n",
       "      <td>/organization/0xdata</td>\n",
       "      <td>H2O.ai</td>\n",
       "      <td>Analytics</td>\n",
       "      <td>operating</td>\n",
       "      <td>USA</td>\n",
       "      <td>/funding-round/ae2a174c06517c2394aed45006322a7e</td>\n",
       "      <td>venture</td>\n",
       "      <td>03-01-2013</td>\n",
       "      <td>1700000.0</td>\n",
       "    </tr>\n",
       "    <tr>\n",
       "      <th>12</th>\n",
       "      <td>/organization/0xdata</td>\n",
       "      <td>H2O.ai</td>\n",
       "      <td>Analytics</td>\n",
       "      <td>operating</td>\n",
       "      <td>USA</td>\n",
       "      <td>/funding-round/e1cfcbe1bdf4c70277c5f29a3482f24e</td>\n",
       "      <td>venture</td>\n",
       "      <td>19-07-2014</td>\n",
       "      <td>8900000.0</td>\n",
       "    </tr>\n",
       "    <tr>\n",
       "      <th>22</th>\n",
       "      <td>/organization/1-mainstream</td>\n",
       "      <td>1 Mainstream</td>\n",
       "      <td>Apps|Cable|Distribution|Software</td>\n",
       "      <td>acquired</td>\n",
       "      <td>USA</td>\n",
       "      <td>/funding-round/b952cbaf401f310927430c97b68162ea</td>\n",
       "      <td>venture</td>\n",
       "      <td>17-03-2015</td>\n",
       "      <td>5000000.0</td>\n",
       "    </tr>\n",
       "  </tbody>\n",
       "</table>\n",
       "</div>"
      ],
      "text/plain": [
       "                     permalink          name  \\\n",
       "0          /organization/-fame         #fame   \n",
       "10        /organization/0xdata        H2O.ai   \n",
       "11        /organization/0xdata        H2O.ai   \n",
       "12        /organization/0xdata        H2O.ai   \n",
       "22  /organization/1-mainstream  1 Mainstream   \n",
       "\n",
       "                       category_list     status country_code  \\\n",
       "0                              Media  operating          IND   \n",
       "10                         Analytics  operating          USA   \n",
       "11                         Analytics  operating          USA   \n",
       "12                         Analytics  operating          USA   \n",
       "22  Apps|Cable|Distribution|Software   acquired          USA   \n",
       "\n",
       "                            funding_round_permalink funding_round_type  \\\n",
       "0   /funding-round/9a01d05418af9f794eebff7ace91f638            venture   \n",
       "10  /funding-round/3bb2ee4a2d89251a10aaa735b1180e44            venture   \n",
       "11  /funding-round/ae2a174c06517c2394aed45006322a7e            venture   \n",
       "12  /funding-round/e1cfcbe1bdf4c70277c5f29a3482f24e            venture   \n",
       "22  /funding-round/b952cbaf401f310927430c97b68162ea            venture   \n",
       "\n",
       "     funded_at  raised_amount_usd  \n",
       "0   05-01-2015         10000000.0  \n",
       "10  09-11-2015         20000000.0  \n",
       "11  03-01-2013          1700000.0  \n",
       "12  19-07-2014          8900000.0  \n",
       "22  17-03-2015          5000000.0  "
      ]
     },
     "execution_count": 67,
     "metadata": {},
     "output_type": "execute_result"
    }
   ],
   "source": [
    "#Filter data for top 3 - English speaking country\n",
    "master_frame.country_code = master_frame.country_code.astype('str')\n",
    "master_frame = master_frame[(master_frame.country_code=='USA') | (master_frame.country_code=='GBR') | (master_frame.country_code=='IND')]\n",
    "master_frame.head()"
   ]
  },
  {
   "cell_type": "code",
   "execution_count": 68,
   "metadata": {},
   "outputs": [
    {
     "data": {
      "text/plain": [
       "(38803, 9)"
      ]
     },
     "execution_count": 68,
     "metadata": {},
     "output_type": "execute_result"
    }
   ],
   "source": [
    "## Checking the shape - for master_frame with IND , USA , GBR\n",
    "master_frame.shape"
   ]
  },
  {
   "cell_type": "code",
   "execution_count": 69,
   "metadata": {},
   "outputs": [
    {
     "data": {
      "text/plain": [
       "array(['IND', 'USA', 'GBR'], dtype=object)"
      ]
     },
     "execution_count": 69,
     "metadata": {},
     "output_type": "execute_result"
    }
   ],
   "source": [
    "master_frame.country_code.unique()"
   ]
  },
  {
   "cell_type": "code",
   "execution_count": 70,
   "metadata": {},
   "outputs": [
    {
     "data": {
      "text/plain": [
       "country_code\n",
       "USA    4.200680e+11\n",
       "GBR    2.007281e+10\n",
       "IND    1.426151e+10\n",
       "Name: raised_amount_usd, dtype: float64"
      ]
     },
     "execution_count": 70,
     "metadata": {},
     "output_type": "execute_result"
    }
   ],
   "source": [
    "## Top 3 english speaking country and total investment values\n",
    "master_frame.groupby(['country_code'])['raised_amount_usd'].sum().sort_values(ascending=False)"
   ]
  },
  {
   "cell_type": "markdown",
   "metadata": {},
   "source": [
    "#### Checkpoint 4: Sector Analysis 1"
   ]
  },
  {
   "cell_type": "code",
   "execution_count": 71,
   "metadata": {},
   "outputs": [
    {
     "name": "stdout",
     "output_type": "stream",
     "text": [
      "<class 'pandas.core.frame.DataFrame'>\n",
      "Int64Index: 38803 entries, 0 to 114936\n",
      "Data columns (total 9 columns):\n",
      " #   Column                   Non-Null Count  Dtype  \n",
      "---  ------                   --------------  -----  \n",
      " 0   permalink                38803 non-null  object \n",
      " 1   name                     38803 non-null  object \n",
      " 2   category_list            38803 non-null  object \n",
      " 3   status                   38803 non-null  object \n",
      " 4   country_code             38803 non-null  object \n",
      " 5   funding_round_permalink  38803 non-null  object \n",
      " 6   funding_round_type       38803 non-null  object \n",
      " 7   funded_at                38803 non-null  object \n",
      " 8   raised_amount_usd        38803 non-null  float64\n",
      "dtypes: float64(1), object(8)\n",
      "memory usage: 1.8+ MB\n"
     ]
    }
   ],
   "source": [
    "master_frame.info()"
   ]
  },
  {
   "cell_type": "code",
   "execution_count": 72,
   "metadata": {},
   "outputs": [
    {
     "data": {
      "text/plain": [
       "0                 Media\n",
       "10            Analytics\n",
       "11            Analytics\n",
       "12            Analytics\n",
       "22                 Apps\n",
       "              ...      \n",
       "114920    Biotechnology\n",
       "114922    Biotechnology\n",
       "114923    Biotechnology\n",
       "114934       E-Commerce\n",
       "114936    Biotechnology\n",
       "Name: main_category, Length: 38803, dtype: object"
      ]
     },
     "execution_count": 72,
     "metadata": {},
     "output_type": "execute_result"
    }
   ],
   "source": [
    "## Extract main categories and put them into a derived column\n",
    "master_frame['main_category'] = master_frame['category_list'].apply(lambda x: x.split('|')[0])\n",
    "master_frame.main_category"
   ]
  },
  {
   "cell_type": "code",
   "execution_count": 73,
   "metadata": {},
   "outputs": [
    {
     "name": "stdout",
     "output_type": "stream",
     "text": [
      "<class 'pandas.core.frame.DataFrame'>\n",
      "RangeIndex: 688 entries, 0 to 687\n",
      "Data columns (total 10 columns):\n",
      " #   Column                                   Non-Null Count  Dtype \n",
      "---  ------                                   --------------  ----- \n",
      " 0   category_list                            687 non-null    object\n",
      " 1   Automotive & Sports                      688 non-null    int64 \n",
      " 2   Blanks                                   688 non-null    int64 \n",
      " 3   Cleantech / Semiconductors               688 non-null    int64 \n",
      " 4   Entertainment                            688 non-null    int64 \n",
      " 5   Health                                   688 non-null    int64 \n",
      " 6   Manufacturing                            688 non-null    int64 \n",
      " 7   News, Search and Messaging               688 non-null    int64 \n",
      " 8   Others                                   688 non-null    int64 \n",
      " 9   Social, Finance, Analytics, Advertising  688 non-null    int64 \n",
      "dtypes: int64(9), object(1)\n",
      "memory usage: 51.1+ KB\n"
     ]
    }
   ],
   "source": [
    "# Import mapping.csv\n",
    "df_mapping = pd.read_csv('mapping.csv',engine='python')\n",
    "df_mapping.info()"
   ]
  },
  {
   "cell_type": "code",
   "execution_count": 74,
   "metadata": {},
   "outputs": [
    {
     "data": {
      "text/plain": [
       "category_list                              1\n",
       "Automotive & Sports                        0\n",
       "Blanks                                     0\n",
       "Cleantech / Semiconductors                 0\n",
       "Entertainment                              0\n",
       "Health                                     0\n",
       "Manufacturing                              0\n",
       "News, Search and Messaging                 0\n",
       "Others                                     0\n",
       "Social, Finance, Analytics, Advertising    0\n",
       "dtype: int64"
      ]
     },
     "execution_count": 74,
     "metadata": {},
     "output_type": "execute_result"
    }
   ],
   "source": [
    "## Look for null values\n",
    "df_mapping.isnull().sum()"
   ]
  },
  {
   "cell_type": "code",
   "execution_count": 75,
   "metadata": {},
   "outputs": [
    {
     "data": {
      "text/plain": [
       "category_list                              0\n",
       "Automotive & Sports                        0\n",
       "Blanks                                     0\n",
       "Cleantech / Semiconductors                 0\n",
       "Entertainment                              0\n",
       "Health                                     0\n",
       "Manufacturing                              0\n",
       "News, Search and Messaging                 0\n",
       "Others                                     0\n",
       "Social, Finance, Analytics, Advertising    0\n",
       "dtype: int64"
      ]
     },
     "execution_count": 75,
     "metadata": {},
     "output_type": "execute_result"
    }
   ],
   "source": [
    "# Basic data cleanup remove the null values\n",
    "df_mapping = df_mapping[pd.notnull(df_mapping.category_list)]\n",
    "df_mapping.isnull().sum()"
   ]
  },
  {
   "cell_type": "code",
   "execution_count": 76,
   "metadata": {},
   "outputs": [
    {
     "name": "stdout",
     "output_type": "stream",
     "text": [
      "<class 'pandas.core.frame.DataFrame'>\n",
      "Int64Index: 38803 entries, 0 to 114936\n",
      "Data columns (total 10 columns):\n",
      " #   Column                   Non-Null Count  Dtype  \n",
      "---  ------                   --------------  -----  \n",
      " 0   permalink                38803 non-null  object \n",
      " 1   name                     38803 non-null  object \n",
      " 2   category_list            38803 non-null  object \n",
      " 3   status                   38803 non-null  object \n",
      " 4   country_code             38803 non-null  object \n",
      " 5   funding_round_permalink  38803 non-null  object \n",
      " 6   funding_round_type       38803 non-null  object \n",
      " 7   funded_at                38803 non-null  object \n",
      " 8   raised_amount_usd        38803 non-null  float64\n",
      " 9   main_category            38803 non-null  object \n",
      "dtypes: float64(1), object(9)\n",
      "memory usage: 1.9+ MB\n"
     ]
    }
   ],
   "source": [
    "master_frame.info()"
   ]
  },
  {
   "cell_type": "code",
   "execution_count": 77,
   "metadata": {},
   "outputs": [],
   "source": [
    "## Deleting category list -  as it is not required any more\n",
    "master_frame.drop(['category_list'], axis=1, inplace=True)"
   ]
  },
  {
   "cell_type": "code",
   "execution_count": 78,
   "metadata": {},
   "outputs": [
    {
     "name": "stdout",
     "output_type": "stream",
     "text": [
      "<class 'pandas.core.frame.DataFrame'>\n",
      "Int64Index: 38803 entries, 0 to 114936\n",
      "Data columns (total 9 columns):\n",
      " #   Column                   Non-Null Count  Dtype  \n",
      "---  ------                   --------------  -----  \n",
      " 0   permalink                38803 non-null  object \n",
      " 1   name                     38803 non-null  object \n",
      " 2   status                   38803 non-null  object \n",
      " 3   country_code             38803 non-null  object \n",
      " 4   funding_round_permalink  38803 non-null  object \n",
      " 5   funding_round_type       38803 non-null  object \n",
      " 6   funded_at                38803 non-null  object \n",
      " 7   raised_amount_usd        38803 non-null  float64\n",
      " 8   main_category            38803 non-null  object \n",
      "dtypes: float64(1), object(8)\n",
      "memory usage: 1.8+ MB\n"
     ]
    }
   ],
   "source": [
    "master_frame.info()"
   ]
  },
  {
   "cell_type": "code",
   "execution_count": 79,
   "metadata": {},
   "outputs": [
    {
     "data": {
      "text/html": [
       "<div>\n",
       "<style scoped>\n",
       "    .dataframe tbody tr th:only-of-type {\n",
       "        vertical-align: middle;\n",
       "    }\n",
       "\n",
       "    .dataframe tbody tr th {\n",
       "        vertical-align: top;\n",
       "    }\n",
       "\n",
       "    .dataframe thead th {\n",
       "        text-align: right;\n",
       "    }\n",
       "</style>\n",
       "<table border=\"1\" class=\"dataframe\">\n",
       "  <thead>\n",
       "    <tr style=\"text-align: right;\">\n",
       "      <th></th>\n",
       "      <th>category_list</th>\n",
       "      <th>Automotive &amp; Sports</th>\n",
       "      <th>Blanks</th>\n",
       "      <th>Cleantech / Semiconductors</th>\n",
       "      <th>Entertainment</th>\n",
       "      <th>Health</th>\n",
       "      <th>Manufacturing</th>\n",
       "      <th>News, Search and Messaging</th>\n",
       "      <th>Others</th>\n",
       "      <th>Social, Finance, Analytics, Advertising</th>\n",
       "    </tr>\n",
       "  </thead>\n",
       "  <tbody>\n",
       "    <tr>\n",
       "      <th>1</th>\n",
       "      <td>3D</td>\n",
       "      <td>0</td>\n",
       "      <td>0</td>\n",
       "      <td>0</td>\n",
       "      <td>0</td>\n",
       "      <td>0</td>\n",
       "      <td>1</td>\n",
       "      <td>0</td>\n",
       "      <td>0</td>\n",
       "      <td>0</td>\n",
       "    </tr>\n",
       "    <tr>\n",
       "      <th>2</th>\n",
       "      <td>3D Printing</td>\n",
       "      <td>0</td>\n",
       "      <td>0</td>\n",
       "      <td>0</td>\n",
       "      <td>0</td>\n",
       "      <td>0</td>\n",
       "      <td>1</td>\n",
       "      <td>0</td>\n",
       "      <td>0</td>\n",
       "      <td>0</td>\n",
       "    </tr>\n",
       "    <tr>\n",
       "      <th>3</th>\n",
       "      <td>3D Technology</td>\n",
       "      <td>0</td>\n",
       "      <td>0</td>\n",
       "      <td>0</td>\n",
       "      <td>0</td>\n",
       "      <td>0</td>\n",
       "      <td>1</td>\n",
       "      <td>0</td>\n",
       "      <td>0</td>\n",
       "      <td>0</td>\n",
       "    </tr>\n",
       "    <tr>\n",
       "      <th>4</th>\n",
       "      <td>Accounting</td>\n",
       "      <td>0</td>\n",
       "      <td>0</td>\n",
       "      <td>0</td>\n",
       "      <td>0</td>\n",
       "      <td>0</td>\n",
       "      <td>0</td>\n",
       "      <td>0</td>\n",
       "      <td>0</td>\n",
       "      <td>1</td>\n",
       "    </tr>\n",
       "    <tr>\n",
       "      <th>5</th>\n",
       "      <td>Active Lifestyle</td>\n",
       "      <td>0</td>\n",
       "      <td>0</td>\n",
       "      <td>0</td>\n",
       "      <td>0</td>\n",
       "      <td>1</td>\n",
       "      <td>0</td>\n",
       "      <td>0</td>\n",
       "      <td>0</td>\n",
       "      <td>0</td>\n",
       "    </tr>\n",
       "  </tbody>\n",
       "</table>\n",
       "</div>"
      ],
      "text/plain": [
       "      category_list  Automotive & Sports  Blanks  Cleantech / Semiconductors  \\\n",
       "1                3D                    0       0                           0   \n",
       "2       3D Printing                    0       0                           0   \n",
       "3     3D Technology                    0       0                           0   \n",
       "4        Accounting                    0       0                           0   \n",
       "5  Active Lifestyle                    0       0                           0   \n",
       "\n",
       "   Entertainment  Health  Manufacturing  News, Search and Messaging  Others  \\\n",
       "1              0       0              1                           0       0   \n",
       "2              0       0              1                           0       0   \n",
       "3              0       0              1                           0       0   \n",
       "4              0       0              0                           0       0   \n",
       "5              0       1              0                           0       0   \n",
       "\n",
       "   Social, Finance, Analytics, Advertising  \n",
       "1                                        0  \n",
       "2                                        0  \n",
       "3                                        0  \n",
       "4                                        1  \n",
       "5                                        0  "
      ]
     },
     "execution_count": 79,
     "metadata": {},
     "output_type": "execute_result"
    }
   ],
   "source": [
    "df_mapping.head()"
   ]
  },
  {
   "cell_type": "code",
   "execution_count": 80,
   "metadata": {},
   "outputs": [],
   "source": [
    "## Fixing the columns for the category_list\n",
    "## Replacing 0 with na - Example- Waste Ma0gement --> Waste Management\n",
    "df_mapping['category_list'] = df_mapping['category_list'].apply(lambda x: x.replace('0', 'na'))"
   ]
  },
  {
   "cell_type": "code",
   "execution_count": 81,
   "metadata": {},
   "outputs": [],
   "source": [
    "# converting common columns to lowercase\n",
    "df_mapping['category_list'] = df_mapping['category_list'].str.lower()\n",
    "master_frame['main_category'] = master_frame['main_category'].str.lower()"
   ]
  },
  {
   "cell_type": "code",
   "execution_count": 82,
   "metadata": {},
   "outputs": [
    {
     "data": {
      "text/html": [
       "<div>\n",
       "<style scoped>\n",
       "    .dataframe tbody tr th:only-of-type {\n",
       "        vertical-align: middle;\n",
       "    }\n",
       "\n",
       "    .dataframe tbody tr th {\n",
       "        vertical-align: top;\n",
       "    }\n",
       "\n",
       "    .dataframe thead th {\n",
       "        text-align: right;\n",
       "    }\n",
       "</style>\n",
       "<table border=\"1\" class=\"dataframe\">\n",
       "  <thead>\n",
       "    <tr style=\"text-align: right;\">\n",
       "      <th></th>\n",
       "      <th>permalink</th>\n",
       "      <th>name</th>\n",
       "      <th>status</th>\n",
       "      <th>country_code</th>\n",
       "      <th>funding_round_permalink</th>\n",
       "      <th>funding_round_type</th>\n",
       "      <th>funded_at</th>\n",
       "      <th>raised_amount_usd</th>\n",
       "      <th>main_category</th>\n",
       "      <th>category_list</th>\n",
       "      <th>Automotive &amp; Sports</th>\n",
       "      <th>Blanks</th>\n",
       "      <th>Cleantech / Semiconductors</th>\n",
       "      <th>Entertainment</th>\n",
       "      <th>Health</th>\n",
       "      <th>Manufacturing</th>\n",
       "      <th>News, Search and Messaging</th>\n",
       "      <th>Others</th>\n",
       "      <th>Social, Finance, Analytics, Advertising</th>\n",
       "    </tr>\n",
       "  </thead>\n",
       "  <tbody>\n",
       "    <tr>\n",
       "      <th>0</th>\n",
       "      <td>/organization/3d-eye-solutions</td>\n",
       "      <td>3D Eye Solutions</td>\n",
       "      <td>operating</td>\n",
       "      <td>USA</td>\n",
       "      <td>/funding-round/1dba01ed899110c0bbf5cbb8be2ec2b0</td>\n",
       "      <td>venture</td>\n",
       "      <td>11-08-2008</td>\n",
       "      <td>170000.0</td>\n",
       "      <td>3d</td>\n",
       "      <td>3d</td>\n",
       "      <td>0</td>\n",
       "      <td>0</td>\n",
       "      <td>0</td>\n",
       "      <td>0</td>\n",
       "      <td>0</td>\n",
       "      <td>1</td>\n",
       "      <td>0</td>\n",
       "      <td>0</td>\n",
       "      <td>0</td>\n",
       "    </tr>\n",
       "    <tr>\n",
       "      <th>1</th>\n",
       "      <td>/organization/3d-eye-solutions</td>\n",
       "      <td>3D Eye Solutions</td>\n",
       "      <td>operating</td>\n",
       "      <td>USA</td>\n",
       "      <td>/funding-round/e8dc1a84754ccd42fe3147447ce1cbb9</td>\n",
       "      <td>venture</td>\n",
       "      <td>06-04-2010</td>\n",
       "      <td>210000.0</td>\n",
       "      <td>3d</td>\n",
       "      <td>3d</td>\n",
       "      <td>0</td>\n",
       "      <td>0</td>\n",
       "      <td>0</td>\n",
       "      <td>0</td>\n",
       "      <td>0</td>\n",
       "      <td>1</td>\n",
       "      <td>0</td>\n",
       "      <td>0</td>\n",
       "      <td>0</td>\n",
       "    </tr>\n",
       "    <tr>\n",
       "      <th>2</th>\n",
       "      <td>/organization/3derm-systems</td>\n",
       "      <td>3Derm Systems</td>\n",
       "      <td>operating</td>\n",
       "      <td>USA</td>\n",
       "      <td>/funding-round/be86f90f81d370bc77642ea3f3fd50a7</td>\n",
       "      <td>venture</td>\n",
       "      <td>22-12-2014</td>\n",
       "      <td>675000.0</td>\n",
       "      <td>3d</td>\n",
       "      <td>3d</td>\n",
       "      <td>0</td>\n",
       "      <td>0</td>\n",
       "      <td>0</td>\n",
       "      <td>0</td>\n",
       "      <td>0</td>\n",
       "      <td>1</td>\n",
       "      <td>0</td>\n",
       "      <td>0</td>\n",
       "      <td>0</td>\n",
       "    </tr>\n",
       "    <tr>\n",
       "      <th>3</th>\n",
       "      <td>/organization/3dsoc</td>\n",
       "      <td>3DSoC</td>\n",
       "      <td>operating</td>\n",
       "      <td>IND</td>\n",
       "      <td>/funding-round/bbedf1410fddeed341018583bbd0ca1e</td>\n",
       "      <td>venture</td>\n",
       "      <td>01-12-2007</td>\n",
       "      <td>1240000.0</td>\n",
       "      <td>3d</td>\n",
       "      <td>3d</td>\n",
       "      <td>0</td>\n",
       "      <td>0</td>\n",
       "      <td>0</td>\n",
       "      <td>0</td>\n",
       "      <td>0</td>\n",
       "      <td>1</td>\n",
       "      <td>0</td>\n",
       "      <td>0</td>\n",
       "      <td>0</td>\n",
       "    </tr>\n",
       "    <tr>\n",
       "      <th>4</th>\n",
       "      <td>/organization/3dsoc</td>\n",
       "      <td>3DSoC</td>\n",
       "      <td>operating</td>\n",
       "      <td>IND</td>\n",
       "      <td>/funding-round/da8918e533a7caf0df0dc8d3f506c0f8</td>\n",
       "      <td>venture</td>\n",
       "      <td>01-08-2010</td>\n",
       "      <td>825000.0</td>\n",
       "      <td>3d</td>\n",
       "      <td>3d</td>\n",
       "      <td>0</td>\n",
       "      <td>0</td>\n",
       "      <td>0</td>\n",
       "      <td>0</td>\n",
       "      <td>0</td>\n",
       "      <td>1</td>\n",
       "      <td>0</td>\n",
       "      <td>0</td>\n",
       "      <td>0</td>\n",
       "    </tr>\n",
       "  </tbody>\n",
       "</table>\n",
       "</div>"
      ],
      "text/plain": [
       "                        permalink              name     status country_code  \\\n",
       "0  /organization/3d-eye-solutions  3D Eye Solutions  operating          USA   \n",
       "1  /organization/3d-eye-solutions  3D Eye Solutions  operating          USA   \n",
       "2     /organization/3derm-systems     3Derm Systems  operating          USA   \n",
       "3             /organization/3dsoc             3DSoC  operating          IND   \n",
       "4             /organization/3dsoc             3DSoC  operating          IND   \n",
       "\n",
       "                           funding_round_permalink funding_round_type  \\\n",
       "0  /funding-round/1dba01ed899110c0bbf5cbb8be2ec2b0            venture   \n",
       "1  /funding-round/e8dc1a84754ccd42fe3147447ce1cbb9            venture   \n",
       "2  /funding-round/be86f90f81d370bc77642ea3f3fd50a7            venture   \n",
       "3  /funding-round/bbedf1410fddeed341018583bbd0ca1e            venture   \n",
       "4  /funding-round/da8918e533a7caf0df0dc8d3f506c0f8            venture   \n",
       "\n",
       "    funded_at  raised_amount_usd main_category category_list  \\\n",
       "0  11-08-2008           170000.0            3d            3d   \n",
       "1  06-04-2010           210000.0            3d            3d   \n",
       "2  22-12-2014           675000.0            3d            3d   \n",
       "3  01-12-2007          1240000.0            3d            3d   \n",
       "4  01-08-2010           825000.0            3d            3d   \n",
       "\n",
       "   Automotive & Sports  Blanks  Cleantech / Semiconductors  Entertainment  \\\n",
       "0                    0       0                           0              0   \n",
       "1                    0       0                           0              0   \n",
       "2                    0       0                           0              0   \n",
       "3                    0       0                           0              0   \n",
       "4                    0       0                           0              0   \n",
       "\n",
       "   Health  Manufacturing  News, Search and Messaging  Others  \\\n",
       "0       0              1                           0       0   \n",
       "1       0              1                           0       0   \n",
       "2       0              1                           0       0   \n",
       "3       0              1                           0       0   \n",
       "4       0              1                           0       0   \n",
       "\n",
       "   Social, Finance, Analytics, Advertising  \n",
       "0                                        0  \n",
       "1                                        0  \n",
       "2                                        0  \n",
       "3                                        0  \n",
       "4                                        0  "
      ]
     },
     "execution_count": 82,
     "metadata": {},
     "output_type": "execute_result"
    }
   ],
   "source": [
    "## Merge the master_frame , df_mapping into a data frame\n",
    "df = pd.merge(master_frame , df_mapping ,how='inner', left_on='main_category' ,right_on ='category_list' , sort= True)\n",
    "df.head()"
   ]
  },
  {
   "cell_type": "code",
   "execution_count": 83,
   "metadata": {},
   "outputs": [
    {
     "name": "stdout",
     "output_type": "stream",
     "text": [
      "<class 'pandas.core.frame.DataFrame'>\n",
      "Int64Index: 38788 entries, 0 to 38787\n",
      "Data columns (total 19 columns):\n",
      " #   Column                                   Non-Null Count  Dtype  \n",
      "---  ------                                   --------------  -----  \n",
      " 0   permalink                                38788 non-null  object \n",
      " 1   name                                     38788 non-null  object \n",
      " 2   status                                   38788 non-null  object \n",
      " 3   country_code                             38788 non-null  object \n",
      " 4   funding_round_permalink                  38788 non-null  object \n",
      " 5   funding_round_type                       38788 non-null  object \n",
      " 6   funded_at                                38788 non-null  object \n",
      " 7   raised_amount_usd                        38788 non-null  float64\n",
      " 8   main_category                            38788 non-null  object \n",
      " 9   category_list                            38788 non-null  object \n",
      " 10  Automotive & Sports                      38788 non-null  int64  \n",
      " 11  Blanks                                   38788 non-null  int64  \n",
      " 12  Cleantech / Semiconductors               38788 non-null  int64  \n",
      " 13  Entertainment                            38788 non-null  int64  \n",
      " 14  Health                                   38788 non-null  int64  \n",
      " 15  Manufacturing                            38788 non-null  int64  \n",
      " 16  News, Search and Messaging               38788 non-null  int64  \n",
      " 17  Others                                   38788 non-null  int64  \n",
      " 18  Social, Finance, Analytics, Advertising  38788 non-null  int64  \n",
      "dtypes: float64(1), int64(9), object(9)\n",
      "memory usage: 4.6+ MB\n"
     ]
    }
   ],
   "source": [
    "df.info()"
   ]
  },
  {
   "cell_type": "markdown",
   "metadata": {},
   "source": [
    "#### Checkpoint 5: Sector Analysis 2"
   ]
  },
  {
   "cell_type": "code",
   "execution_count": 84,
   "metadata": {},
   "outputs": [
    {
     "data": {
      "text/plain": [
       "0        Manufacturing\n",
       "1        Manufacturing\n",
       "2        Manufacturing\n",
       "3        Manufacturing\n",
       "4        Manufacturing\n",
       "             ...      \n",
       "38783    Entertainment\n",
       "38784    Entertainment\n",
       "38785    Entertainment\n",
       "38786    Entertainment\n",
       "38787           Others\n",
       "Name: sector, Length: 38788, dtype: object"
      ]
     },
     "execution_count": 84,
     "metadata": {},
     "output_type": "execute_result"
    }
   ],
   "source": [
    "## This method will get the sector values - from the rows based on the colums\n",
    "def get_sector(df,row):\n",
    "    for x in range(9,19):\n",
    "        if row.iloc[x]==1:\n",
    "            return df.columns[x]; \n",
    "\n",
    "df['sector']= df.apply(lambda row: get_sector(df,row),axis=1)\n",
    "df.sector"
   ]
  },
  {
   "cell_type": "code",
   "execution_count": 85,
   "metadata": {},
   "outputs": [
    {
     "data": {
      "text/plain": [
       "array(['Manufacturing', 'Social, Finance, Analytics, Advertising',\n",
       "       'Health', 'Automotive & Sports', 'Others',\n",
       "       'News, Search and Messaging', 'Entertainment',\n",
       "       'Cleantech / Semiconductors'], dtype=object)"
      ]
     },
     "execution_count": 85,
     "metadata": {},
     "output_type": "execute_result"
    }
   ],
   "source": [
    "## Unique sectors\n",
    "df.sector.unique()"
   ]
  },
  {
   "cell_type": "code",
   "execution_count": 86,
   "metadata": {},
   "outputs": [
    {
     "name": "stdout",
     "output_type": "stream",
     "text": [
      "<class 'pandas.core.frame.DataFrame'>\n",
      "Int64Index: 13012 entries, 6 to 38781\n",
      "Data columns (total 20 columns):\n",
      " #   Column                                   Non-Null Count  Dtype  \n",
      "---  ------                                   --------------  -----  \n",
      " 0   permalink                                13012 non-null  object \n",
      " 1   name                                     13012 non-null  object \n",
      " 2   status                                   13012 non-null  object \n",
      " 3   country_code                             13012 non-null  object \n",
      " 4   funding_round_permalink                  13012 non-null  object \n",
      " 5   funding_round_type                       13012 non-null  object \n",
      " 6   funded_at                                13012 non-null  object \n",
      " 7   raised_amount_usd                        13012 non-null  float64\n",
      " 8   main_category                            13012 non-null  object \n",
      " 9   category_list                            13012 non-null  object \n",
      " 10  Automotive & Sports                      13012 non-null  int64  \n",
      " 11  Blanks                                   13012 non-null  int64  \n",
      " 12  Cleantech / Semiconductors               13012 non-null  int64  \n",
      " 13  Entertainment                            13012 non-null  int64  \n",
      " 14  Health                                   13012 non-null  int64  \n",
      " 15  Manufacturing                            13012 non-null  int64  \n",
      " 16  News, Search and Messaging               13012 non-null  int64  \n",
      " 17  Others                                   13012 non-null  int64  \n",
      " 18  Social, Finance, Analytics, Advertising  13012 non-null  int64  \n",
      " 19  sector                                   13012 non-null  object \n",
      "dtypes: float64(1), int64(9), object(10)\n",
      "memory usage: 1.6+ MB\n"
     ]
    }
   ],
   "source": [
    "## Filter based on investments between $5M to $15M\n",
    "df = df[(df['raised_amount_usd'] >= 5000000) & (df['raised_amount_usd'] <= 15000000)]\n",
    "df.info()"
   ]
  },
  {
   "cell_type": "code",
   "execution_count": 87,
   "metadata": {},
   "outputs": [],
   "source": [
    "## Converting the company name to uppercase \n",
    "df.name=df.name.apply(lambda x:x.upper())"
   ]
  },
  {
   "cell_type": "code",
   "execution_count": 88,
   "metadata": {},
   "outputs": [],
   "source": [
    "## Add an extra column converting to million dollars\n",
    "df['raised_amount_in_millions']= round(df['raised_amount_usd']/1000000,2)"
   ]
  },
  {
   "cell_type": "code",
   "execution_count": 89,
   "metadata": {},
   "outputs": [
    {
     "data": {
      "text/html": [
       "<div>\n",
       "<style scoped>\n",
       "    .dataframe tbody tr th:only-of-type {\n",
       "        vertical-align: middle;\n",
       "    }\n",
       "\n",
       "    .dataframe tbody tr th {\n",
       "        vertical-align: top;\n",
       "    }\n",
       "\n",
       "    .dataframe thead th {\n",
       "        text-align: right;\n",
       "    }\n",
       "</style>\n",
       "<table border=\"1\" class=\"dataframe\">\n",
       "  <thead>\n",
       "    <tr style=\"text-align: right;\">\n",
       "      <th></th>\n",
       "      <th>count</th>\n",
       "      <th>sum</th>\n",
       "    </tr>\n",
       "    <tr>\n",
       "      <th>country_code</th>\n",
       "      <th></th>\n",
       "      <th></th>\n",
       "    </tr>\n",
       "  </thead>\n",
       "  <tbody>\n",
       "    <tr>\n",
       "      <th>USA</th>\n",
       "      <td>12063</td>\n",
       "      <td>107757.20</td>\n",
       "    </tr>\n",
       "    <tr>\n",
       "      <th>GBR</th>\n",
       "      <td>621</td>\n",
       "      <td>5379.07</td>\n",
       "    </tr>\n",
       "    <tr>\n",
       "      <th>IND</th>\n",
       "      <td>328</td>\n",
       "      <td>2949.55</td>\n",
       "    </tr>\n",
       "  </tbody>\n",
       "</table>\n",
       "</div>"
      ],
      "text/plain": [
       "              count        sum\n",
       "country_code                  \n",
       "USA           12063  107757.20\n",
       "GBR             621    5379.07\n",
       "IND             328    2949.55"
      ]
     },
     "execution_count": 89,
     "metadata": {},
     "output_type": "execute_result"
    }
   ],
   "source": [
    "## Sorting countries based on number of investment and total investment amount\n",
    "df.groupby(['country_code']).raised_amount_in_millions.agg(['count', 'sum']).sort_values(['sum'],ascending=False)"
   ]
  },
  {
   "cell_type": "markdown",
   "metadata": {},
   "source": [
    "#### <center> Table 3.1 Analysing the Top 3 English-Speaking Countries </center>"
   ]
  },
  {
   "cell_type": "markdown",
   "metadata": {},
   "source": [
    "\n",
    "\n",
    "|            Questions            | Answers |\n",
    "|:-------------------------------|:-------|\n",
    "| Top   English speaking country  | USA     |\n",
    "| Second English speaking country | GBR     |\n",
    "| Third English speaking country  | INDIA   |"
   ]
  },
  {
   "cell_type": "code",
   "execution_count": 90,
   "metadata": {},
   "outputs": [],
   "source": [
    "## Dropping the unnecessary columns for sectors\n",
    "df.drop(df.columns[9:19],axis=1, inplace=True)"
   ]
  },
  {
   "cell_type": "code",
   "execution_count": 91,
   "metadata": {},
   "outputs": [
    {
     "name": "stdout",
     "output_type": "stream",
     "text": [
      "<class 'pandas.core.frame.DataFrame'>\n",
      "Int64Index: 13012 entries, 6 to 38781\n",
      "Data columns (total 11 columns):\n",
      " #   Column                     Non-Null Count  Dtype  \n",
      "---  ------                     --------------  -----  \n",
      " 0   permalink                  13012 non-null  object \n",
      " 1   name                       13012 non-null  object \n",
      " 2   status                     13012 non-null  object \n",
      " 3   country_code               13012 non-null  object \n",
      " 4   funding_round_permalink    13012 non-null  object \n",
      " 5   funding_round_type         13012 non-null  object \n",
      " 6   funded_at                  13012 non-null  object \n",
      " 7   raised_amount_usd          13012 non-null  float64\n",
      " 8   main_category              13012 non-null  object \n",
      " 9   sector                     13012 non-null  object \n",
      " 10  raised_amount_in_millions  13012 non-null  float64\n",
      "dtypes: float64(2), object(9)\n",
      "memory usage: 1.2+ MB\n"
     ]
    }
   ],
   "source": [
    "df.info()"
   ]
  },
  {
   "cell_type": "code",
   "execution_count": 92,
   "metadata": {},
   "outputs": [
    {
     "data": {
      "text/html": [
       "<div>\n",
       "<style scoped>\n",
       "    .dataframe tbody tr th:only-of-type {\n",
       "        vertical-align: middle;\n",
       "    }\n",
       "\n",
       "    .dataframe tbody tr th {\n",
       "        vertical-align: top;\n",
       "    }\n",
       "\n",
       "    .dataframe thead th {\n",
       "        text-align: right;\n",
       "    }\n",
       "</style>\n",
       "<table border=\"1\" class=\"dataframe\">\n",
       "  <thead>\n",
       "    <tr style=\"text-align: right;\">\n",
       "      <th></th>\n",
       "      <th>permalink</th>\n",
       "      <th>name</th>\n",
       "      <th>status</th>\n",
       "      <th>country_code</th>\n",
       "      <th>funding_round_permalink</th>\n",
       "      <th>funding_round_type</th>\n",
       "      <th>funded_at</th>\n",
       "      <th>raised_amount_usd</th>\n",
       "      <th>main_category</th>\n",
       "      <th>sector</th>\n",
       "      <th>raised_amount_in_millions</th>\n",
       "    </tr>\n",
       "  </thead>\n",
       "  <tbody>\n",
       "    <tr>\n",
       "      <th>6</th>\n",
       "      <td>/organization/accompany</td>\n",
       "      <td>ACCOMPANY</td>\n",
       "      <td>operating</td>\n",
       "      <td>USA</td>\n",
       "      <td>/funding-round/5487aebe83d68e93df681fd2af148f3e</td>\n",
       "      <td>venture</td>\n",
       "      <td>16-06-2014</td>\n",
       "      <td>5600000.0</td>\n",
       "      <td>3d</td>\n",
       "      <td>Manufacturing</td>\n",
       "      <td>5.60</td>\n",
       "    </tr>\n",
       "    <tr>\n",
       "      <th>7</th>\n",
       "      <td>/organization/accompany</td>\n",
       "      <td>ACCOMPANY</td>\n",
       "      <td>operating</td>\n",
       "      <td>USA</td>\n",
       "      <td>/funding-round/b17ddae77db3a42e95c3747c1eaff7ab</td>\n",
       "      <td>venture</td>\n",
       "      <td>19-11-2014</td>\n",
       "      <td>15000000.0</td>\n",
       "      <td>3d</td>\n",
       "      <td>Manufacturing</td>\n",
       "      <td>15.00</td>\n",
       "    </tr>\n",
       "    <tr>\n",
       "      <th>10</th>\n",
       "      <td>/organization/atheer-labs</td>\n",
       "      <td>ATHEER LABS</td>\n",
       "      <td>operating</td>\n",
       "      <td>USA</td>\n",
       "      <td>/funding-round/421a7fd81521326fd83a2aefc80e3a77</td>\n",
       "      <td>venture</td>\n",
       "      <td>03-08-2015</td>\n",
       "      <td>9058298.0</td>\n",
       "      <td>3d</td>\n",
       "      <td>Manufacturing</td>\n",
       "      <td>9.06</td>\n",
       "    </tr>\n",
       "    <tr>\n",
       "      <th>15</th>\n",
       "      <td>/organization/dual-aperture-international-inc-</td>\n",
       "      <td>DUAL APERTURE INTERNATIONAL, INC.</td>\n",
       "      <td>operating</td>\n",
       "      <td>USA</td>\n",
       "      <td>/funding-round/61950b6482e9e7ef555e87b81826c62f</td>\n",
       "      <td>venture</td>\n",
       "      <td>19-11-2014</td>\n",
       "      <td>5700000.0</td>\n",
       "      <td>3d</td>\n",
       "      <td>Manufacturing</td>\n",
       "      <td>5.70</td>\n",
       "    </tr>\n",
       "    <tr>\n",
       "      <th>17</th>\n",
       "      <td>/organization/floored</td>\n",
       "      <td>FLOORED</td>\n",
       "      <td>operating</td>\n",
       "      <td>USA</td>\n",
       "      <td>/funding-round/6232dbd23bceb853204db42d70b1921a</td>\n",
       "      <td>venture</td>\n",
       "      <td>19-12-2013</td>\n",
       "      <td>5260000.0</td>\n",
       "      <td>3d</td>\n",
       "      <td>Manufacturing</td>\n",
       "      <td>5.26</td>\n",
       "    </tr>\n",
       "  </tbody>\n",
       "</table>\n",
       "</div>"
      ],
      "text/plain": [
       "                                         permalink  \\\n",
       "6                          /organization/accompany   \n",
       "7                          /organization/accompany   \n",
       "10                       /organization/atheer-labs   \n",
       "15  /organization/dual-aperture-international-inc-   \n",
       "17                           /organization/floored   \n",
       "\n",
       "                                 name     status country_code  \\\n",
       "6                           ACCOMPANY  operating          USA   \n",
       "7                           ACCOMPANY  operating          USA   \n",
       "10                        ATHEER LABS  operating          USA   \n",
       "15  DUAL APERTURE INTERNATIONAL, INC.  operating          USA   \n",
       "17                            FLOORED  operating          USA   \n",
       "\n",
       "                            funding_round_permalink funding_round_type  \\\n",
       "6   /funding-round/5487aebe83d68e93df681fd2af148f3e            venture   \n",
       "7   /funding-round/b17ddae77db3a42e95c3747c1eaff7ab            venture   \n",
       "10  /funding-round/421a7fd81521326fd83a2aefc80e3a77            venture   \n",
       "15  /funding-round/61950b6482e9e7ef555e87b81826c62f            venture   \n",
       "17  /funding-round/6232dbd23bceb853204db42d70b1921a            venture   \n",
       "\n",
       "     funded_at  raised_amount_usd main_category         sector  \\\n",
       "6   16-06-2014          5600000.0            3d  Manufacturing   \n",
       "7   19-11-2014         15000000.0            3d  Manufacturing   \n",
       "10  03-08-2015          9058298.0            3d  Manufacturing   \n",
       "15  19-11-2014          5700000.0            3d  Manufacturing   \n",
       "17  19-12-2013          5260000.0            3d  Manufacturing   \n",
       "\n",
       "    raised_amount_in_millions  \n",
       "6                        5.60  \n",
       "7                       15.00  \n",
       "10                       9.06  \n",
       "15                       5.70  \n",
       "17                       5.26  "
      ]
     },
     "execution_count": 92,
     "metadata": {},
     "output_type": "execute_result"
    }
   ],
   "source": [
    "## Data frame for USA\n",
    "D1=df[df.country_code=='USA']\n",
    "D1.head()"
   ]
  },
  {
   "cell_type": "code",
   "execution_count": 93,
   "metadata": {},
   "outputs": [
    {
     "data": {
      "text/html": [
       "<div>\n",
       "<style scoped>\n",
       "    .dataframe tbody tr th:only-of-type {\n",
       "        vertical-align: middle;\n",
       "    }\n",
       "\n",
       "    .dataframe tbody tr th {\n",
       "        vertical-align: top;\n",
       "    }\n",
       "\n",
       "    .dataframe thead th {\n",
       "        text-align: right;\n",
       "    }\n",
       "</style>\n",
       "<table border=\"1\" class=\"dataframe\">\n",
       "  <thead>\n",
       "    <tr style=\"text-align: right;\">\n",
       "      <th></th>\n",
       "      <th>permalink</th>\n",
       "      <th>name</th>\n",
       "      <th>status</th>\n",
       "      <th>country_code</th>\n",
       "      <th>funding_round_permalink</th>\n",
       "      <th>funding_round_type</th>\n",
       "      <th>funded_at</th>\n",
       "      <th>raised_amount_usd</th>\n",
       "      <th>main_category</th>\n",
       "      <th>sector</th>\n",
       "      <th>raised_amount_in_millions</th>\n",
       "    </tr>\n",
       "  </thead>\n",
       "  <tbody>\n",
       "    <tr>\n",
       "      <th>39</th>\n",
       "      <td>/organization/mydeco</td>\n",
       "      <td>MYDECO</td>\n",
       "      <td>acquired</td>\n",
       "      <td>GBR</td>\n",
       "      <td>/funding-round/5e61f3bc3ee671466a780e2d33b1a97b</td>\n",
       "      <td>venture</td>\n",
       "      <td>01-08-2008</td>\n",
       "      <td>14529275.0</td>\n",
       "      <td>3d</td>\n",
       "      <td>Manufacturing</td>\n",
       "      <td>14.53</td>\n",
       "    </tr>\n",
       "    <tr>\n",
       "      <th>56</th>\n",
       "      <td>/organization/ion-core</td>\n",
       "      <td>ION CORE</td>\n",
       "      <td>operating</td>\n",
       "      <td>GBR</td>\n",
       "      <td>/funding-round/05ac1bea16c70497a834ca68ee781a82</td>\n",
       "      <td>venture</td>\n",
       "      <td>01-07-2014</td>\n",
       "      <td>10000000.0</td>\n",
       "      <td>3d printing</td>\n",
       "      <td>Manufacturing</td>\n",
       "      <td>10.00</td>\n",
       "    </tr>\n",
       "    <tr>\n",
       "      <th>118</th>\n",
       "      <td>/organization/mythings</td>\n",
       "      <td>MYTHINGS</td>\n",
       "      <td>operating</td>\n",
       "      <td>GBR</td>\n",
       "      <td>/funding-round/33b07317347464878c1fd06c79a18e8c</td>\n",
       "      <td>venture</td>\n",
       "      <td>20-03-2012</td>\n",
       "      <td>15000000.0</td>\n",
       "      <td>accounting</td>\n",
       "      <td>Social, Finance, Analytics, Advertising</td>\n",
       "      <td>15.00</td>\n",
       "    </tr>\n",
       "    <tr>\n",
       "      <th>119</th>\n",
       "      <td>/organization/mythings</td>\n",
       "      <td>MYTHINGS</td>\n",
       "      <td>operating</td>\n",
       "      <td>GBR</td>\n",
       "      <td>/funding-round/4327f9e58ad74196c2d1da8515fbd078</td>\n",
       "      <td>venture</td>\n",
       "      <td>01-04-2006</td>\n",
       "      <td>8000000.0</td>\n",
       "      <td>accounting</td>\n",
       "      <td>Social, Finance, Analytics, Advertising</td>\n",
       "      <td>8.00</td>\n",
       "    </tr>\n",
       "    <tr>\n",
       "      <th>120</th>\n",
       "      <td>/organization/mythings</td>\n",
       "      <td>MYTHINGS</td>\n",
       "      <td>operating</td>\n",
       "      <td>GBR</td>\n",
       "      <td>/funding-round/9b39194e9de805e27fd6b083550b31eb</td>\n",
       "      <td>venture</td>\n",
       "      <td>23-11-2010</td>\n",
       "      <td>6000000.0</td>\n",
       "      <td>accounting</td>\n",
       "      <td>Social, Finance, Analytics, Advertising</td>\n",
       "      <td>6.00</td>\n",
       "    </tr>\n",
       "  </tbody>\n",
       "</table>\n",
       "</div>"
      ],
      "text/plain": [
       "                  permalink      name     status country_code  \\\n",
       "39     /organization/mydeco    MYDECO   acquired          GBR   \n",
       "56   /organization/ion-core  ION CORE  operating          GBR   \n",
       "118  /organization/mythings  MYTHINGS  operating          GBR   \n",
       "119  /organization/mythings  MYTHINGS  operating          GBR   \n",
       "120  /organization/mythings  MYTHINGS  operating          GBR   \n",
       "\n",
       "                             funding_round_permalink funding_round_type  \\\n",
       "39   /funding-round/5e61f3bc3ee671466a780e2d33b1a97b            venture   \n",
       "56   /funding-round/05ac1bea16c70497a834ca68ee781a82            venture   \n",
       "118  /funding-round/33b07317347464878c1fd06c79a18e8c            venture   \n",
       "119  /funding-round/4327f9e58ad74196c2d1da8515fbd078            venture   \n",
       "120  /funding-round/9b39194e9de805e27fd6b083550b31eb            venture   \n",
       "\n",
       "      funded_at  raised_amount_usd main_category  \\\n",
       "39   01-08-2008         14529275.0            3d   \n",
       "56   01-07-2014         10000000.0   3d printing   \n",
       "118  20-03-2012         15000000.0    accounting   \n",
       "119  01-04-2006          8000000.0    accounting   \n",
       "120  23-11-2010          6000000.0    accounting   \n",
       "\n",
       "                                      sector  raised_amount_in_millions  \n",
       "39                             Manufacturing                      14.53  \n",
       "56                             Manufacturing                      10.00  \n",
       "118  Social, Finance, Analytics, Advertising                      15.00  \n",
       "119  Social, Finance, Analytics, Advertising                       8.00  \n",
       "120  Social, Finance, Analytics, Advertising                       6.00  "
      ]
     },
     "execution_count": 93,
     "metadata": {},
     "output_type": "execute_result"
    }
   ],
   "source": [
    "## Data frame for GBR\n",
    "D2=df[df.country_code=='GBR']\n",
    "D2.head()"
   ]
  },
  {
   "cell_type": "code",
   "execution_count": 94,
   "metadata": {},
   "outputs": [
    {
     "data": {
      "text/html": [
       "<div>\n",
       "<style scoped>\n",
       "    .dataframe tbody tr th:only-of-type {\n",
       "        vertical-align: middle;\n",
       "    }\n",
       "\n",
       "    .dataframe tbody tr th {\n",
       "        vertical-align: top;\n",
       "    }\n",
       "\n",
       "    .dataframe thead th {\n",
       "        text-align: right;\n",
       "    }\n",
       "</style>\n",
       "<table border=\"1\" class=\"dataframe\">\n",
       "  <thead>\n",
       "    <tr style=\"text-align: right;\">\n",
       "      <th></th>\n",
       "      <th>permalink</th>\n",
       "      <th>name</th>\n",
       "      <th>status</th>\n",
       "      <th>country_code</th>\n",
       "      <th>funding_round_permalink</th>\n",
       "      <th>funding_round_type</th>\n",
       "      <th>funded_at</th>\n",
       "      <th>raised_amount_usd</th>\n",
       "      <th>main_category</th>\n",
       "      <th>sector</th>\n",
       "      <th>raised_amount_in_millions</th>\n",
       "    </tr>\n",
       "  </thead>\n",
       "  <tbody>\n",
       "    <tr>\n",
       "      <th>256</th>\n",
       "      <td>/organization/vizury</td>\n",
       "      <td>VIZURY</td>\n",
       "      <td>operating</td>\n",
       "      <td>IND</td>\n",
       "      <td>/funding-round/ac8e975062d5726b647e7f34c3aa8a2c</td>\n",
       "      <td>venture</td>\n",
       "      <td>26-10-2012</td>\n",
       "      <td>9000000.0</td>\n",
       "      <td>ad targeting</td>\n",
       "      <td>Social, Finance, Analytics, Advertising</td>\n",
       "      <td>9.0</td>\n",
       "    </tr>\n",
       "    <tr>\n",
       "      <th>421</th>\n",
       "      <td>/organization/amagi-media-labs</td>\n",
       "      <td>AMAGI MEDIA LABS</td>\n",
       "      <td>operating</td>\n",
       "      <td>IND</td>\n",
       "      <td>/funding-round/f244a91cc714317f6fbbc80dcc1d5135</td>\n",
       "      <td>venture</td>\n",
       "      <td>17-06-2013</td>\n",
       "      <td>5500000.0</td>\n",
       "      <td>advertising</td>\n",
       "      <td>Social, Finance, Analytics, Advertising</td>\n",
       "      <td>5.5</td>\n",
       "    </tr>\n",
       "    <tr>\n",
       "      <th>726</th>\n",
       "      <td>/organization/daksh-infosoft</td>\n",
       "      <td>DAKSH INFOSOFT</td>\n",
       "      <td>acquired</td>\n",
       "      <td>IND</td>\n",
       "      <td>/funding-round/06e911ef9150414ccfa3f1b2de74d7c0</td>\n",
       "      <td>venture</td>\n",
       "      <td>24-09-2001</td>\n",
       "      <td>6000000.0</td>\n",
       "      <td>advertising</td>\n",
       "      <td>Social, Finance, Analytics, Advertising</td>\n",
       "      <td>6.0</td>\n",
       "    </tr>\n",
       "    <tr>\n",
       "      <th>780</th>\n",
       "      <td>/organization/ebs-worldwide-services</td>\n",
       "      <td>EBS WORLDWIDE SERVICES</td>\n",
       "      <td>operating</td>\n",
       "      <td>IND</td>\n",
       "      <td>/funding-round/ee2d3e6f0f8cb42513c8287a77ef1d08</td>\n",
       "      <td>venture</td>\n",
       "      <td>07-06-2006</td>\n",
       "      <td>5500000.0</td>\n",
       "      <td>advertising</td>\n",
       "      <td>Social, Finance, Analytics, Advertising</td>\n",
       "      <td>5.5</td>\n",
       "    </tr>\n",
       "    <tr>\n",
       "      <th>952</th>\n",
       "      <td>/organization/ideacts-innovations</td>\n",
       "      <td>IDEACTS INNOVATIONS</td>\n",
       "      <td>operating</td>\n",
       "      <td>IND</td>\n",
       "      <td>/funding-round/4f3089970603552dceda60e07ebb2364</td>\n",
       "      <td>venture</td>\n",
       "      <td>03-07-2008</td>\n",
       "      <td>5000000.0</td>\n",
       "      <td>advertising</td>\n",
       "      <td>Social, Finance, Analytics, Advertising</td>\n",
       "      <td>5.0</td>\n",
       "    </tr>\n",
       "  </tbody>\n",
       "</table>\n",
       "</div>"
      ],
      "text/plain": [
       "                                permalink                    name     status  \\\n",
       "256                  /organization/vizury                  VIZURY  operating   \n",
       "421        /organization/amagi-media-labs        AMAGI MEDIA LABS  operating   \n",
       "726          /organization/daksh-infosoft          DAKSH INFOSOFT   acquired   \n",
       "780  /organization/ebs-worldwide-services  EBS WORLDWIDE SERVICES  operating   \n",
       "952     /organization/ideacts-innovations     IDEACTS INNOVATIONS  operating   \n",
       "\n",
       "    country_code                          funding_round_permalink  \\\n",
       "256          IND  /funding-round/ac8e975062d5726b647e7f34c3aa8a2c   \n",
       "421          IND  /funding-round/f244a91cc714317f6fbbc80dcc1d5135   \n",
       "726          IND  /funding-round/06e911ef9150414ccfa3f1b2de74d7c0   \n",
       "780          IND  /funding-round/ee2d3e6f0f8cb42513c8287a77ef1d08   \n",
       "952          IND  /funding-round/4f3089970603552dceda60e07ebb2364   \n",
       "\n",
       "    funding_round_type   funded_at  raised_amount_usd main_category  \\\n",
       "256            venture  26-10-2012          9000000.0  ad targeting   \n",
       "421            venture  17-06-2013          5500000.0   advertising   \n",
       "726            venture  24-09-2001          6000000.0   advertising   \n",
       "780            venture  07-06-2006          5500000.0   advertising   \n",
       "952            venture  03-07-2008          5000000.0   advertising   \n",
       "\n",
       "                                      sector  raised_amount_in_millions  \n",
       "256  Social, Finance, Analytics, Advertising                        9.0  \n",
       "421  Social, Finance, Analytics, Advertising                        5.5  \n",
       "726  Social, Finance, Analytics, Advertising                        6.0  \n",
       "780  Social, Finance, Analytics, Advertising                        5.5  \n",
       "952  Social, Finance, Analytics, Advertising                        5.0  "
      ]
     },
     "execution_count": 94,
     "metadata": {},
     "output_type": "execute_result"
    }
   ],
   "source": [
    "## Data frame for IND\n",
    "D3=df[df.country_code=='IND']\n",
    "D3.head()"
   ]
  },
  {
   "cell_type": "markdown",
   "metadata": {},
   "source": [
    "#### Analysis for USA"
   ]
  },
  {
   "cell_type": "code",
   "execution_count": 95,
   "metadata": {},
   "outputs": [
    {
     "data": {
      "text/html": [
       "<div>\n",
       "<style scoped>\n",
       "    .dataframe tbody tr th:only-of-type {\n",
       "        vertical-align: middle;\n",
       "    }\n",
       "\n",
       "    .dataframe tbody tr th {\n",
       "        vertical-align: top;\n",
       "    }\n",
       "\n",
       "    .dataframe thead th {\n",
       "        text-align: right;\n",
       "    }\n",
       "</style>\n",
       "<table border=\"1\" class=\"dataframe\">\n",
       "  <thead>\n",
       "    <tr style=\"text-align: right;\">\n",
       "      <th></th>\n",
       "      <th></th>\n",
       "      <th>Total number of Investments</th>\n",
       "      <th>Total Amount Received (Million Dollars)</th>\n",
       "    </tr>\n",
       "    <tr>\n",
       "      <th>country_code</th>\n",
       "      <th>sector</th>\n",
       "      <th></th>\n",
       "      <th></th>\n",
       "    </tr>\n",
       "  </thead>\n",
       "  <tbody>\n",
       "    <tr>\n",
       "      <th rowspan=\"3\" valign=\"top\">USA</th>\n",
       "      <th>Others</th>\n",
       "      <td>2950</td>\n",
       "      <td>26321.01</td>\n",
       "    </tr>\n",
       "    <tr>\n",
       "      <th>Social, Finance, Analytics, Advertising</th>\n",
       "      <td>2714</td>\n",
       "      <td>23807.38</td>\n",
       "    </tr>\n",
       "    <tr>\n",
       "      <th>Cleantech / Semiconductors</th>\n",
       "      <td>2350</td>\n",
       "      <td>21633.45</td>\n",
       "    </tr>\n",
       "  </tbody>\n",
       "</table>\n",
       "</div>"
      ],
      "text/plain": [
       "                                                      Total number of Investments  \\\n",
       "country_code sector                                                                 \n",
       "USA          Others                                                          2950   \n",
       "             Social, Finance, Analytics, Advertising                         2714   \n",
       "             Cleantech / Semiconductors                                      2350   \n",
       "\n",
       "                                                      Total Amount Received (Million Dollars)  \n",
       "country_code sector                                                                            \n",
       "USA          Others                                                                  26321.01  \n",
       "             Social, Finance, Analytics, Advertising                                 23807.38  \n",
       "             Cleantech / Semiconductors                                              21633.45  "
      ]
     },
     "execution_count": 95,
     "metadata": {},
     "output_type": "execute_result"
    }
   ],
   "source": [
    "## Identifying the top 3 sectors in USA\n",
    "\n",
    "D1_1=D1.groupby(['country_code', 'sector']).raised_amount_in_millions.agg(['count', 'sum']).sort_values(['country_code','count'],ascending=False).head(3)\n",
    "D1_1.rename(columns={'count':'Total number of Investments','sum':'Total Amount Received (Million Dollars)'},inplace=True)\n",
    "D1_1"
   ]
  },
  {
   "cell_type": "code",
   "execution_count": 96,
   "metadata": {},
   "outputs": [
    {
     "data": {
      "text/html": [
       "<div>\n",
       "<style scoped>\n",
       "    .dataframe tbody tr th:only-of-type {\n",
       "        vertical-align: middle;\n",
       "    }\n",
       "\n",
       "    .dataframe tbody tr th {\n",
       "        vertical-align: top;\n",
       "    }\n",
       "\n",
       "    .dataframe thead th {\n",
       "        text-align: right;\n",
       "    }\n",
       "</style>\n",
       "<table border=\"1\" class=\"dataframe\">\n",
       "  <thead>\n",
       "    <tr style=\"text-align: right;\">\n",
       "      <th></th>\n",
       "      <th></th>\n",
       "      <th></th>\n",
       "      <th>count</th>\n",
       "      <th>sum</th>\n",
       "    </tr>\n",
       "    <tr>\n",
       "      <th>country_code</th>\n",
       "      <th>sector</th>\n",
       "      <th>name</th>\n",
       "      <th></th>\n",
       "      <th></th>\n",
       "    </tr>\n",
       "  </thead>\n",
       "  <tbody>\n",
       "    <tr>\n",
       "      <th>USA</th>\n",
       "      <th>Others</th>\n",
       "      <th>VIRTUSTREAM</th>\n",
       "      <td>6</td>\n",
       "      <td>64.3</td>\n",
       "    </tr>\n",
       "  </tbody>\n",
       "</table>\n",
       "</div>"
      ],
      "text/plain": [
       "                                 count   sum\n",
       "country_code sector name                    \n",
       "USA          Others VIRTUSTREAM      6  64.3"
      ]
     },
     "execution_count": 96,
     "metadata": {},
     "output_type": "execute_result"
    }
   ],
   "source": [
    "## Identifying the company for top - sector\n",
    "D1_S1 = D1[D1.sector=='Others']\n",
    "D1_S1.groupby(['country_code', 'sector','name']).raised_amount_in_millions.agg(['count', 'sum']).sort_values(['country_code','sector','sum'],ascending=False).head(1)"
   ]
  },
  {
   "cell_type": "code",
   "execution_count": 97,
   "metadata": {},
   "outputs": [
    {
     "data": {
      "text/html": [
       "<div>\n",
       "<style scoped>\n",
       "    .dataframe tbody tr th:only-of-type {\n",
       "        vertical-align: middle;\n",
       "    }\n",
       "\n",
       "    .dataframe tbody tr th {\n",
       "        vertical-align: top;\n",
       "    }\n",
       "\n",
       "    .dataframe thead th {\n",
       "        text-align: right;\n",
       "    }\n",
       "</style>\n",
       "<table border=\"1\" class=\"dataframe\">\n",
       "  <thead>\n",
       "    <tr style=\"text-align: right;\">\n",
       "      <th></th>\n",
       "      <th></th>\n",
       "      <th></th>\n",
       "      <th>count</th>\n",
       "      <th>sum</th>\n",
       "    </tr>\n",
       "    <tr>\n",
       "      <th>country_code</th>\n",
       "      <th>sector</th>\n",
       "      <th>name</th>\n",
       "      <th></th>\n",
       "      <th></th>\n",
       "    </tr>\n",
       "  </thead>\n",
       "  <tbody>\n",
       "    <tr>\n",
       "      <th>USA</th>\n",
       "      <th>Social, Finance, Analytics, Advertising</th>\n",
       "      <th>SST INC. (FORMERLY SHOTSPOTTER)</th>\n",
       "      <td>7</td>\n",
       "      <td>67.93</td>\n",
       "    </tr>\n",
       "  </tbody>\n",
       "</table>\n",
       "</div>"
      ],
      "text/plain": [
       "                                                                                      count  \\\n",
       "country_code sector                                  name                                     \n",
       "USA          Social, Finance, Analytics, Advertising SST INC. (FORMERLY SHOTSPOTTER)      7   \n",
       "\n",
       "                                                                                        sum  \n",
       "country_code sector                                  name                                    \n",
       "USA          Social, Finance, Analytics, Advertising SST INC. (FORMERLY SHOTSPOTTER)  67.93  "
      ]
     },
     "execution_count": 97,
     "metadata": {},
     "output_type": "execute_result"
    }
   ],
   "source": [
    "## Identifying the company for 2nd top - sector\n",
    "D1_S2 = D1[D1.sector=='Social, Finance, Analytics, Advertising']\n",
    "D1_S2.groupby(['country_code', 'sector','name']).raised_amount_in_millions.agg(['count', 'sum']).sort_values(['country_code','sector','sum'],ascending=False).head(1)"
   ]
  },
  {
   "cell_type": "markdown",
   "metadata": {},
   "source": [
    "#### Analysis for GBR"
   ]
  },
  {
   "cell_type": "code",
   "execution_count": 98,
   "metadata": {},
   "outputs": [
    {
     "data": {
      "text/html": [
       "<div>\n",
       "<style scoped>\n",
       "    .dataframe tbody tr th:only-of-type {\n",
       "        vertical-align: middle;\n",
       "    }\n",
       "\n",
       "    .dataframe tbody tr th {\n",
       "        vertical-align: top;\n",
       "    }\n",
       "\n",
       "    .dataframe thead th {\n",
       "        text-align: right;\n",
       "    }\n",
       "</style>\n",
       "<table border=\"1\" class=\"dataframe\">\n",
       "  <thead>\n",
       "    <tr style=\"text-align: right;\">\n",
       "      <th></th>\n",
       "      <th></th>\n",
       "      <th>Total number of Investments</th>\n",
       "      <th>Total Amount Received (Million Dollars)</th>\n",
       "    </tr>\n",
       "    <tr>\n",
       "      <th>country_code</th>\n",
       "      <th>sector</th>\n",
       "      <th></th>\n",
       "      <th></th>\n",
       "    </tr>\n",
       "  </thead>\n",
       "  <tbody>\n",
       "    <tr>\n",
       "      <th rowspan=\"3\" valign=\"top\">GBR</th>\n",
       "      <th>Others</th>\n",
       "      <td>147</td>\n",
       "      <td>1283.65</td>\n",
       "    </tr>\n",
       "    <tr>\n",
       "      <th>Social, Finance, Analytics, Advertising</th>\n",
       "      <td>133</td>\n",
       "      <td>1089.39</td>\n",
       "    </tr>\n",
       "    <tr>\n",
       "      <th>Cleantech / Semiconductors</th>\n",
       "      <td>130</td>\n",
       "      <td>1163.97</td>\n",
       "    </tr>\n",
       "  </tbody>\n",
       "</table>\n",
       "</div>"
      ],
      "text/plain": [
       "                                                      Total number of Investments  \\\n",
       "country_code sector                                                                 \n",
       "GBR          Others                                                           147   \n",
       "             Social, Finance, Analytics, Advertising                          133   \n",
       "             Cleantech / Semiconductors                                       130   \n",
       "\n",
       "                                                      Total Amount Received (Million Dollars)  \n",
       "country_code sector                                                                            \n",
       "GBR          Others                                                                   1283.65  \n",
       "             Social, Finance, Analytics, Advertising                                  1089.39  \n",
       "             Cleantech / Semiconductors                                               1163.97  "
      ]
     },
     "execution_count": 98,
     "metadata": {},
     "output_type": "execute_result"
    }
   ],
   "source": [
    "## Identifying the top 3 sectors in GBR\n",
    "\n",
    "D1_2=D2.groupby(['country_code', 'sector']).raised_amount_in_millions.agg(['count', 'sum']).sort_values(['country_code','count'],ascending=False).head(3)\n",
    "D1_2.rename(columns={'count':'Total number of Investments','sum':'Total Amount Received (Million Dollars)'},inplace=True)\n",
    "D1_2"
   ]
  },
  {
   "cell_type": "code",
   "execution_count": 99,
   "metadata": {},
   "outputs": [
    {
     "data": {
      "text/html": [
       "<div>\n",
       "<style scoped>\n",
       "    .dataframe tbody tr th:only-of-type {\n",
       "        vertical-align: middle;\n",
       "    }\n",
       "\n",
       "    .dataframe tbody tr th {\n",
       "        vertical-align: top;\n",
       "    }\n",
       "\n",
       "    .dataframe thead th {\n",
       "        text-align: right;\n",
       "    }\n",
       "</style>\n",
       "<table border=\"1\" class=\"dataframe\">\n",
       "  <thead>\n",
       "    <tr style=\"text-align: right;\">\n",
       "      <th></th>\n",
       "      <th></th>\n",
       "      <th></th>\n",
       "      <th>count</th>\n",
       "      <th>sum</th>\n",
       "    </tr>\n",
       "    <tr>\n",
       "      <th>country_code</th>\n",
       "      <th>sector</th>\n",
       "      <th>name</th>\n",
       "      <th></th>\n",
       "      <th></th>\n",
       "    </tr>\n",
       "  </thead>\n",
       "  <tbody>\n",
       "    <tr>\n",
       "      <th>GBR</th>\n",
       "      <th>Others</th>\n",
       "      <th>ELECTRIC CLOUD</th>\n",
       "      <td>4</td>\n",
       "      <td>37.0</td>\n",
       "    </tr>\n",
       "  </tbody>\n",
       "</table>\n",
       "</div>"
      ],
      "text/plain": [
       "                                    count   sum\n",
       "country_code sector name                       \n",
       "GBR          Others ELECTRIC CLOUD      4  37.0"
      ]
     },
     "execution_count": 99,
     "metadata": {},
     "output_type": "execute_result"
    }
   ],
   "source": [
    "## Identifying the company for top - sector\n",
    "D2_S1 = D2[D2.sector=='Others']\n",
    "D2_S1.groupby(['country_code', 'sector','name']).raised_amount_in_millions.agg(['count', 'sum']).sort_values(['country_code','sector','sum'],ascending=False).head(1)"
   ]
  },
  {
   "cell_type": "code",
   "execution_count": 100,
   "metadata": {},
   "outputs": [
    {
     "data": {
      "text/html": [
       "<div>\n",
       "<style scoped>\n",
       "    .dataframe tbody tr th:only-of-type {\n",
       "        vertical-align: middle;\n",
       "    }\n",
       "\n",
       "    .dataframe tbody tr th {\n",
       "        vertical-align: top;\n",
       "    }\n",
       "\n",
       "    .dataframe thead th {\n",
       "        text-align: right;\n",
       "    }\n",
       "</style>\n",
       "<table border=\"1\" class=\"dataframe\">\n",
       "  <thead>\n",
       "    <tr style=\"text-align: right;\">\n",
       "      <th></th>\n",
       "      <th></th>\n",
       "      <th></th>\n",
       "      <th>count</th>\n",
       "      <th>sum</th>\n",
       "    </tr>\n",
       "    <tr>\n",
       "      <th>country_code</th>\n",
       "      <th>sector</th>\n",
       "      <th>name</th>\n",
       "      <th></th>\n",
       "      <th></th>\n",
       "    </tr>\n",
       "  </thead>\n",
       "  <tbody>\n",
       "    <tr>\n",
       "      <th>GBR</th>\n",
       "      <th>Social, Finance, Analytics, Advertising</th>\n",
       "      <th>CELLTICK TECHNOLOGIES</th>\n",
       "      <td>4</td>\n",
       "      <td>37.5</td>\n",
       "    </tr>\n",
       "  </tbody>\n",
       "</table>\n",
       "</div>"
      ],
      "text/plain": [
       "                                                                            count  \\\n",
       "country_code sector                                  name                           \n",
       "GBR          Social, Finance, Analytics, Advertising CELLTICK TECHNOLOGIES      4   \n",
       "\n",
       "                                                                             sum  \n",
       "country_code sector                                  name                         \n",
       "GBR          Social, Finance, Analytics, Advertising CELLTICK TECHNOLOGIES  37.5  "
      ]
     },
     "execution_count": 100,
     "metadata": {},
     "output_type": "execute_result"
    }
   ],
   "source": [
    "## Identifying the company for 2nd top - sector\n",
    "D2_S2 = D2[D2.sector=='Social, Finance, Analytics, Advertising']\n",
    "D2_S2.groupby(['country_code', 'sector','name']).raised_amount_in_millions.agg(['count', 'sum']).sort_values(['country_code','sector','sum'],ascending=False).head(1)"
   ]
  },
  {
   "cell_type": "markdown",
   "metadata": {},
   "source": [
    "#### Analysis for India"
   ]
  },
  {
   "cell_type": "code",
   "execution_count": 101,
   "metadata": {},
   "outputs": [
    {
     "data": {
      "text/html": [
       "<div>\n",
       "<style scoped>\n",
       "    .dataframe tbody tr th:only-of-type {\n",
       "        vertical-align: middle;\n",
       "    }\n",
       "\n",
       "    .dataframe tbody tr th {\n",
       "        vertical-align: top;\n",
       "    }\n",
       "\n",
       "    .dataframe thead th {\n",
       "        text-align: right;\n",
       "    }\n",
       "</style>\n",
       "<table border=\"1\" class=\"dataframe\">\n",
       "  <thead>\n",
       "    <tr style=\"text-align: right;\">\n",
       "      <th></th>\n",
       "      <th></th>\n",
       "      <th>Total number of Investments</th>\n",
       "      <th>Total Amount Received (Million Dollars)</th>\n",
       "    </tr>\n",
       "    <tr>\n",
       "      <th>country_code</th>\n",
       "      <th>sector</th>\n",
       "      <th></th>\n",
       "      <th></th>\n",
       "    </tr>\n",
       "  </thead>\n",
       "  <tbody>\n",
       "    <tr>\n",
       "      <th rowspan=\"3\" valign=\"top\">IND</th>\n",
       "      <th>Others</th>\n",
       "      <td>110</td>\n",
       "      <td>1013.41</td>\n",
       "    </tr>\n",
       "    <tr>\n",
       "      <th>Social, Finance, Analytics, Advertising</th>\n",
       "      <td>60</td>\n",
       "      <td>550.55</td>\n",
       "    </tr>\n",
       "    <tr>\n",
       "      <th>News, Search and Messaging</th>\n",
       "      <td>52</td>\n",
       "      <td>433.84</td>\n",
       "    </tr>\n",
       "  </tbody>\n",
       "</table>\n",
       "</div>"
      ],
      "text/plain": [
       "                                                      Total number of Investments  \\\n",
       "country_code sector                                                                 \n",
       "IND          Others                                                           110   \n",
       "             Social, Finance, Analytics, Advertising                           60   \n",
       "             News, Search and Messaging                                        52   \n",
       "\n",
       "                                                      Total Amount Received (Million Dollars)  \n",
       "country_code sector                                                                            \n",
       "IND          Others                                                                   1013.41  \n",
       "             Social, Finance, Analytics, Advertising                                   550.55  \n",
       "             News, Search and Messaging                                                433.84  "
      ]
     },
     "execution_count": 101,
     "metadata": {},
     "output_type": "execute_result"
    }
   ],
   "source": [
    "## Identifying the top 3 sectors in India\n",
    "\n",
    "D3_1=D3.groupby(['country_code', 'sector']).raised_amount_in_millions.agg(['count', 'sum']).sort_values(['country_code','count'],ascending=False).head(3)\n",
    "D3_1.rename(columns={'count':'Total number of Investments','sum':'Total Amount Received (Million Dollars)'},inplace=True)\n",
    "D3_1"
   ]
  },
  {
   "cell_type": "code",
   "execution_count": 102,
   "metadata": {},
   "outputs": [
    {
     "data": {
      "text/html": [
       "<div>\n",
       "<style scoped>\n",
       "    .dataframe tbody tr th:only-of-type {\n",
       "        vertical-align: middle;\n",
       "    }\n",
       "\n",
       "    .dataframe tbody tr th {\n",
       "        vertical-align: top;\n",
       "    }\n",
       "\n",
       "    .dataframe thead th {\n",
       "        text-align: right;\n",
       "    }\n",
       "</style>\n",
       "<table border=\"1\" class=\"dataframe\">\n",
       "  <thead>\n",
       "    <tr style=\"text-align: right;\">\n",
       "      <th></th>\n",
       "      <th></th>\n",
       "      <th></th>\n",
       "      <th>count</th>\n",
       "      <th>sum</th>\n",
       "    </tr>\n",
       "    <tr>\n",
       "      <th>country_code</th>\n",
       "      <th>sector</th>\n",
       "      <th>name</th>\n",
       "      <th></th>\n",
       "      <th></th>\n",
       "    </tr>\n",
       "  </thead>\n",
       "  <tbody>\n",
       "    <tr>\n",
       "      <th>IND</th>\n",
       "      <th>Others</th>\n",
       "      <th>FIRSTCRY.COM</th>\n",
       "      <td>3</td>\n",
       "      <td>39.0</td>\n",
       "    </tr>\n",
       "  </tbody>\n",
       "</table>\n",
       "</div>"
      ],
      "text/plain": [
       "                                  count   sum\n",
       "country_code sector name                     \n",
       "IND          Others FIRSTCRY.COM      3  39.0"
      ]
     },
     "execution_count": 102,
     "metadata": {},
     "output_type": "execute_result"
    }
   ],
   "source": [
    "## Identifying the company for top - sector\n",
    "D3_S1 = D3[D3.sector=='Others']\n",
    "D3_S1.groupby(['country_code', 'sector','name']).raised_amount_in_millions.agg(['count', 'sum']).sort_values(['country_code','sector','sum'],ascending=False).head(1)"
   ]
  },
  {
   "cell_type": "code",
   "execution_count": 104,
   "metadata": {},
   "outputs": [
    {
     "data": {
      "text/html": [
       "<div>\n",
       "<style scoped>\n",
       "    .dataframe tbody tr th:only-of-type {\n",
       "        vertical-align: middle;\n",
       "    }\n",
       "\n",
       "    .dataframe tbody tr th {\n",
       "        vertical-align: top;\n",
       "    }\n",
       "\n",
       "    .dataframe thead th {\n",
       "        text-align: right;\n",
       "    }\n",
       "</style>\n",
       "<table border=\"1\" class=\"dataframe\">\n",
       "  <thead>\n",
       "    <tr style=\"text-align: right;\">\n",
       "      <th></th>\n",
       "      <th></th>\n",
       "      <th></th>\n",
       "      <th>count</th>\n",
       "      <th>sum</th>\n",
       "    </tr>\n",
       "    <tr>\n",
       "      <th>country_code</th>\n",
       "      <th>sector</th>\n",
       "      <th>name</th>\n",
       "      <th></th>\n",
       "      <th></th>\n",
       "    </tr>\n",
       "  </thead>\n",
       "  <tbody>\n",
       "    <tr>\n",
       "      <th>IND</th>\n",
       "      <th>Social, Finance, Analytics, Advertising</th>\n",
       "      <th>MANTHAN SYSTEMS</th>\n",
       "      <td>4</td>\n",
       "      <td>50.7</td>\n",
       "    </tr>\n",
       "  </tbody>\n",
       "</table>\n",
       "</div>"
      ],
      "text/plain": [
       "                                                                      count  \\\n",
       "country_code sector                                  name                     \n",
       "IND          Social, Finance, Analytics, Advertising MANTHAN SYSTEMS      4   \n",
       "\n",
       "                                                                       sum  \n",
       "country_code sector                                  name                   \n",
       "IND          Social, Finance, Analytics, Advertising MANTHAN SYSTEMS  50.7  "
      ]
     },
     "execution_count": 104,
     "metadata": {},
     "output_type": "execute_result"
    }
   ],
   "source": [
    "## Identifying the company for 2nd top - sector\n",
    "D3_S2 = D3[D3.sector=='Social, Finance, Analytics, Advertising']\n",
    "D3_S2.groupby(['country_code', 'sector','name']).raised_amount_in_millions.agg(['count', 'sum']).sort_values(['country_code','sector','sum'],ascending=False).head(1)"
   ]
  },
  {
   "cell_type": "markdown",
   "metadata": {},
   "source": [
    "#### Table-5.1 - Sector-wise Investment Analysis"
   ]
  },
  {
   "cell_type": "markdown",
   "metadata": {},
   "source": [
    "|                                           Questions                                           |                        USA                       |                    GBR                    |                        IND                       |\n",
    "|:---------------------------------------------------------------------------------------------:|:------------------------------------------------:|:-----------------------------------------:|:------------------------------------------------:|\n",
    "| Total number of Investments (count)                                                           | 12063                                            | 621                                       | 328                                              |\n",
    "| Total amount of investment (Millions USD)                                                              | 107757.2                                         | 5379.07                                   | 2949.55                                          |\n",
    "| Top Sector name (no. of investment-wise)                                                      | Others                                           | Others                                    | Others                                           |\n",
    "| Second Sector name (no. of investment-wise)                                                   | Social,   Finance, Analytics, Advertising        | Social, Finance,   Analytics, Advertising | Social,   Finance, Analytics, Advertising        |\n",
    "| Third Sector name (no. of investment-wise)                                                    | Cleantech /   Semiconductors                     | Cleantech /   Semiconductors              | News, Search and   Messaging                     |\n",
    "| Number of investments in top sector (3)                                                       | 2950                                             | 147                                       | 110                                              |\n",
    "| Number of investments in second sector (4)                                                    | 2714                                             | 133                                       | 60                                               |\n",
    "| Number of investments in third sector (5)                                                     | 2350                                             | 130                                       | 52                                               |\n",
    "| For point 3 (top sector count-wise), which company received the   highest investment?         | Virtustream                                      | Electric Cloud                            | FirstCry.com                                     |\n",
    "| For point 4 (second best sector count-wise), which company   received the highest investment? | SST Inc. (Formerly   ShotSpotter)                | Celltick Technologies                     | Manthan Systems                                  |"
   ]
  },
  {
   "cell_type": "code",
   "execution_count": 105,
   "metadata": {},
   "outputs": [
    {
     "name": "stdout",
     "output_type": "stream",
     "text": [
      "<class 'pandas.core.frame.DataFrame'>\n",
      "Int64Index: 13012 entries, 6 to 38781\n",
      "Data columns (total 11 columns):\n",
      " #   Column                     Non-Null Count  Dtype  \n",
      "---  ------                     --------------  -----  \n",
      " 0   permalink                  13012 non-null  object \n",
      " 1   name                       13012 non-null  object \n",
      " 2   status                     13012 non-null  object \n",
      " 3   country_code               13012 non-null  object \n",
      " 4   funding_round_permalink    13012 non-null  object \n",
      " 5   funding_round_type         13012 non-null  object \n",
      " 6   funded_at                  13012 non-null  object \n",
      " 7   raised_amount_usd          13012 non-null  float64\n",
      " 8   main_category              13012 non-null  object \n",
      " 9   sector                     13012 non-null  object \n",
      " 10  raised_amount_in_millions  13012 non-null  float64\n",
      "dtypes: float64(2), object(9)\n",
      "memory usage: 1.2+ MB\n"
     ]
    }
   ],
   "source": [
    "## dropping all the extra columns\n",
    "df.info()"
   ]
  },
  {
   "cell_type": "markdown",
   "metadata": {},
   "source": [
    "#### Checkpoint 6: Plots"
   ]
  },
  {
   "cell_type": "code",
   "execution_count": 108,
   "metadata": {},
   "outputs": [
    {
     "data": {
      "image/png": "[encoded data removed]",
      "text/plain": [
       "<Figure size 720x360 with 1 Axes>"
      ]
     },
     "metadata": {
      "needs_background": "light"
     },
     "output_type": "display_data"
    }
   ],
   "source": [
    "## Funding type vs raised amount in millions\n",
    "plt.figure(figsize=(10,5))\n",
    "master_frame_ft[\"raised_amount_in_millions\"] = master_frame_ft[\"raised_amount_usd\"].apply(lambda x: round(x/1000000,2))\n",
    "g=sns.barplot(x='funding_round_type', y='raised_amount_in_millions', data=master_frame_ft)\n",
    "g.set_title('Funding Type Analysis',fontsize =18)\n",
    "plt.show()"
   ]
  },
  {
   "cell_type": "code",
   "execution_count": 109,
   "metadata": {},
   "outputs": [
    {
     "data": {
      "image/png": "[encoded data removed]",
      "text/plain": [
       "<Figure size 720x360 with 1 Axes>"
      ]
     },
     "metadata": {
      "needs_background": "light"
     },
     "output_type": "display_data"
    }
   ],
   "source": [
    "## Top 9 Countries vs total raised amount in USD\n",
    "top9['country_code']=top9['country_code'].astype('string')\n",
    "plt.figure(figsize=(10,5))\n",
    "x=sns.barplot(x='country_code', y='raised_amount_usd', data=top9, estimator=np.sum)\n",
    "x.set_yscale('log')\n",
    "x.set(xlabel='Country', ylabel='Raised Amount(in millions)')\n",
    "x.set_title('Country Analysis',fontsize =18)\n",
    "plt.show()"
   ]
  },
  {
   "cell_type": "code",
   "execution_count": 110,
   "metadata": {
    "scrolled": true
   },
   "outputs": [
    {
     "data": {
      "text/html": [
       "<div>\n",
       "<style scoped>\n",
       "    .dataframe tbody tr th:only-of-type {\n",
       "        vertical-align: middle;\n",
       "    }\n",
       "\n",
       "    .dataframe tbody tr th {\n",
       "        vertical-align: top;\n",
       "    }\n",
       "\n",
       "    .dataframe thead th {\n",
       "        text-align: right;\n",
       "    }\n",
       "</style>\n",
       "<table border=\"1\" class=\"dataframe\">\n",
       "  <thead>\n",
       "    <tr style=\"text-align: right;\">\n",
       "      <th></th>\n",
       "      <th>permalink</th>\n",
       "      <th>name</th>\n",
       "      <th>status</th>\n",
       "      <th>country_code</th>\n",
       "      <th>funding_round_permalink</th>\n",
       "      <th>funding_round_type</th>\n",
       "      <th>funded_at</th>\n",
       "      <th>raised_amount_usd</th>\n",
       "      <th>main_category</th>\n",
       "      <th>sector</th>\n",
       "      <th>raised_amount_in_millions</th>\n",
       "    </tr>\n",
       "  </thead>\n",
       "  <tbody>\n",
       "    <tr>\n",
       "      <th>6</th>\n",
       "      <td>/organization/accompany</td>\n",
       "      <td>ACCOMPANY</td>\n",
       "      <td>operating</td>\n",
       "      <td>USA</td>\n",
       "      <td>/funding-round/5487aebe83d68e93df681fd2af148f3e</td>\n",
       "      <td>venture</td>\n",
       "      <td>16-06-2014</td>\n",
       "      <td>5600000.0</td>\n",
       "      <td>3d</td>\n",
       "      <td>Manufacturing</td>\n",
       "      <td>5.60</td>\n",
       "    </tr>\n",
       "    <tr>\n",
       "      <th>7</th>\n",
       "      <td>/organization/accompany</td>\n",
       "      <td>ACCOMPANY</td>\n",
       "      <td>operating</td>\n",
       "      <td>USA</td>\n",
       "      <td>/funding-round/b17ddae77db3a42e95c3747c1eaff7ab</td>\n",
       "      <td>venture</td>\n",
       "      <td>19-11-2014</td>\n",
       "      <td>15000000.0</td>\n",
       "      <td>3d</td>\n",
       "      <td>Manufacturing</td>\n",
       "      <td>15.00</td>\n",
       "    </tr>\n",
       "    <tr>\n",
       "      <th>10</th>\n",
       "      <td>/organization/atheer-labs</td>\n",
       "      <td>ATHEER LABS</td>\n",
       "      <td>operating</td>\n",
       "      <td>USA</td>\n",
       "      <td>/funding-round/421a7fd81521326fd83a2aefc80e3a77</td>\n",
       "      <td>venture</td>\n",
       "      <td>03-08-2015</td>\n",
       "      <td>9058298.0</td>\n",
       "      <td>3d</td>\n",
       "      <td>Manufacturing</td>\n",
       "      <td>9.06</td>\n",
       "    </tr>\n",
       "    <tr>\n",
       "      <th>15</th>\n",
       "      <td>/organization/dual-aperture-international-inc-</td>\n",
       "      <td>DUAL APERTURE INTERNATIONAL, INC.</td>\n",
       "      <td>operating</td>\n",
       "      <td>USA</td>\n",
       "      <td>/funding-round/61950b6482e9e7ef555e87b81826c62f</td>\n",
       "      <td>venture</td>\n",
       "      <td>19-11-2014</td>\n",
       "      <td>5700000.0</td>\n",
       "      <td>3d</td>\n",
       "      <td>Manufacturing</td>\n",
       "      <td>5.70</td>\n",
       "    </tr>\n",
       "    <tr>\n",
       "      <th>17</th>\n",
       "      <td>/organization/floored</td>\n",
       "      <td>FLOORED</td>\n",
       "      <td>operating</td>\n",
       "      <td>USA</td>\n",
       "      <td>/funding-round/6232dbd23bceb853204db42d70b1921a</td>\n",
       "      <td>venture</td>\n",
       "      <td>19-12-2013</td>\n",
       "      <td>5260000.0</td>\n",
       "      <td>3d</td>\n",
       "      <td>Manufacturing</td>\n",
       "      <td>5.26</td>\n",
       "    </tr>\n",
       "    <tr>\n",
       "      <th>...</th>\n",
       "      <td>...</td>\n",
       "      <td>...</td>\n",
       "      <td>...</td>\n",
       "      <td>...</td>\n",
       "      <td>...</td>\n",
       "      <td>...</td>\n",
       "      <td>...</td>\n",
       "      <td>...</td>\n",
       "      <td>...</td>\n",
       "      <td>...</td>\n",
       "      <td>...</td>\n",
       "    </tr>\n",
       "    <tr>\n",
       "      <th>38771</th>\n",
       "      <td>/organization/zetera</td>\n",
       "      <td>ZETERA</td>\n",
       "      <td>operating</td>\n",
       "      <td>USA</td>\n",
       "      <td>/funding-round/59c6e0a593d46dbf22368237563c4d45</td>\n",
       "      <td>venture</td>\n",
       "      <td>10-05-2005</td>\n",
       "      <td>13500000.0</td>\n",
       "      <td>web hosting</td>\n",
       "      <td>Others</td>\n",
       "      <td>13.50</td>\n",
       "    </tr>\n",
       "    <tr>\n",
       "      <th>38773</th>\n",
       "      <td>/organization/keybase</td>\n",
       "      <td>KEYBASE</td>\n",
       "      <td>operating</td>\n",
       "      <td>USA</td>\n",
       "      <td>/funding-round/18004f2e94ef51adb4189830a8f3c928</td>\n",
       "      <td>venture</td>\n",
       "      <td>15-07-2015</td>\n",
       "      <td>10800000.0</td>\n",
       "      <td>web tools</td>\n",
       "      <td>Others</td>\n",
       "      <td>10.80</td>\n",
       "    </tr>\n",
       "    <tr>\n",
       "      <th>38775</th>\n",
       "      <td>/organization/beam-suntory</td>\n",
       "      <td>BEAM SUNTORY</td>\n",
       "      <td>operating</td>\n",
       "      <td>USA</td>\n",
       "      <td>/funding-round/be51308b394eb4229f311c8c41ce22a6</td>\n",
       "      <td>venture</td>\n",
       "      <td>21-11-2006</td>\n",
       "      <td>5170000.0</td>\n",
       "      <td>wine and spirits</td>\n",
       "      <td>Entertainment</td>\n",
       "      <td>5.17</td>\n",
       "    </tr>\n",
       "    <tr>\n",
       "      <th>38777</th>\n",
       "      <td>/organization/legra-systems-inc</td>\n",
       "      <td>LEGRA SYSTEMS</td>\n",
       "      <td>acquired</td>\n",
       "      <td>USA</td>\n",
       "      <td>/funding-round/1a38fd033526213e599c7112bac06f71</td>\n",
       "      <td>venture</td>\n",
       "      <td>01-12-2003</td>\n",
       "      <td>12000000.0</td>\n",
       "      <td>wireless</td>\n",
       "      <td>Entertainment</td>\n",
       "      <td>12.00</td>\n",
       "    </tr>\n",
       "    <tr>\n",
       "      <th>38781</th>\n",
       "      <td>/organization/perpetuum</td>\n",
       "      <td>PERPETUUM</td>\n",
       "      <td>operating</td>\n",
       "      <td>GBR</td>\n",
       "      <td>/funding-round/e26492fb6eddf9086f93362265460739</td>\n",
       "      <td>venture</td>\n",
       "      <td>12-10-2007</td>\n",
       "      <td>10181710.0</td>\n",
       "      <td>wireless</td>\n",
       "      <td>Entertainment</td>\n",
       "      <td>10.18</td>\n",
       "    </tr>\n",
       "  </tbody>\n",
       "</table>\n",
       "<p>13012 rows × 11 columns</p>\n",
       "</div>"
      ],
      "text/plain": [
       "                                            permalink  \\\n",
       "6                             /organization/accompany   \n",
       "7                             /organization/accompany   \n",
       "10                          /organization/atheer-labs   \n",
       "15     /organization/dual-aperture-international-inc-   \n",
       "17                              /organization/floored   \n",
       "...                                               ...   \n",
       "38771                            /organization/zetera   \n",
       "38773                           /organization/keybase   \n",
       "38775                      /organization/beam-suntory   \n",
       "38777                 /organization/legra-systems-inc   \n",
       "38781                         /organization/perpetuum   \n",
       "\n",
       "                                    name     status country_code  \\\n",
       "6                              ACCOMPANY  operating          USA   \n",
       "7                              ACCOMPANY  operating          USA   \n",
       "10                           ATHEER LABS  operating          USA   \n",
       "15     DUAL APERTURE INTERNATIONAL, INC.  operating          USA   \n",
       "17                               FLOORED  operating          USA   \n",
       "...                                  ...        ...          ...   \n",
       "38771                             ZETERA  operating          USA   \n",
       "38773                            KEYBASE  operating          USA   \n",
       "38775                       BEAM SUNTORY  operating          USA   \n",
       "38777                      LEGRA SYSTEMS   acquired          USA   \n",
       "38781                          PERPETUUM  operating          GBR   \n",
       "\n",
       "                               funding_round_permalink funding_round_type  \\\n",
       "6      /funding-round/5487aebe83d68e93df681fd2af148f3e            venture   \n",
       "7      /funding-round/b17ddae77db3a42e95c3747c1eaff7ab            venture   \n",
       "10     /funding-round/421a7fd81521326fd83a2aefc80e3a77            venture   \n",
       "15     /funding-round/61950b6482e9e7ef555e87b81826c62f            venture   \n",
       "17     /funding-round/6232dbd23bceb853204db42d70b1921a            venture   \n",
       "...                                                ...                ...   \n",
       "38771  /funding-round/59c6e0a593d46dbf22368237563c4d45            venture   \n",
       "38773  /funding-round/18004f2e94ef51adb4189830a8f3c928            venture   \n",
       "38775  /funding-round/be51308b394eb4229f311c8c41ce22a6            venture   \n",
       "38777  /funding-round/1a38fd033526213e599c7112bac06f71            venture   \n",
       "38781  /funding-round/e26492fb6eddf9086f93362265460739            venture   \n",
       "\n",
       "        funded_at  raised_amount_usd     main_category         sector  \\\n",
       "6      16-06-2014          5600000.0                3d  Manufacturing   \n",
       "7      19-11-2014         15000000.0                3d  Manufacturing   \n",
       "10     03-08-2015          9058298.0                3d  Manufacturing   \n",
       "15     19-11-2014          5700000.0                3d  Manufacturing   \n",
       "17     19-12-2013          5260000.0                3d  Manufacturing   \n",
       "...           ...                ...               ...            ...   \n",
       "38771  10-05-2005         13500000.0       web hosting         Others   \n",
       "38773  15-07-2015         10800000.0         web tools         Others   \n",
       "38775  21-11-2006          5170000.0  wine and spirits  Entertainment   \n",
       "38777  01-12-2003         12000000.0          wireless  Entertainment   \n",
       "38781  12-10-2007         10181710.0          wireless  Entertainment   \n",
       "\n",
       "       raised_amount_in_millions  \n",
       "6                           5.60  \n",
       "7                          15.00  \n",
       "10                          9.06  \n",
       "15                          5.70  \n",
       "17                          5.26  \n",
       "...                          ...  \n",
       "38771                      13.50  \n",
       "38773                      10.80  \n",
       "38775                       5.17  \n",
       "38777                      12.00  \n",
       "38781                      10.18  \n",
       "\n",
       "[13012 rows x 11 columns]"
      ]
     },
     "execution_count": 110,
     "metadata": {},
     "output_type": "execute_result"
    }
   ],
   "source": [
    "df"
   ]
  },
  {
   "cell_type": "code",
   "execution_count": 111,
   "metadata": {},
   "outputs": [
    {
     "data": {
      "text/html": [
       "<div>\n",
       "<style scoped>\n",
       "    .dataframe tbody tr th:only-of-type {\n",
       "        vertical-align: middle;\n",
       "    }\n",
       "\n",
       "    .dataframe tbody tr th {\n",
       "        vertical-align: top;\n",
       "    }\n",
       "\n",
       "    .dataframe thead th {\n",
       "        text-align: right;\n",
       "    }\n",
       "</style>\n",
       "<table border=\"1\" class=\"dataframe\">\n",
       "  <thead>\n",
       "    <tr style=\"text-align: right;\">\n",
       "      <th></th>\n",
       "      <th>country_code</th>\n",
       "      <th>sector</th>\n",
       "      <th>Total Investments</th>\n",
       "      <th>Total Amount Received (USD in Millions)</th>\n",
       "    </tr>\n",
       "  </thead>\n",
       "  <tbody>\n",
       "    <tr>\n",
       "      <th>0</th>\n",
       "      <td>USA</td>\n",
       "      <td>Others</td>\n",
       "      <td>2950</td>\n",
       "      <td>26321.01</td>\n",
       "    </tr>\n",
       "    <tr>\n",
       "      <th>1</th>\n",
       "      <td>USA</td>\n",
       "      <td>Social, Finance, Analytics, Advertising</td>\n",
       "      <td>2714</td>\n",
       "      <td>23807.38</td>\n",
       "    </tr>\n",
       "    <tr>\n",
       "      <th>2</th>\n",
       "      <td>USA</td>\n",
       "      <td>Cleantech / Semiconductors</td>\n",
       "      <td>2350</td>\n",
       "      <td>21633.45</td>\n",
       "    </tr>\n",
       "    <tr>\n",
       "      <th>3</th>\n",
       "      <td>IND</td>\n",
       "      <td>Others</td>\n",
       "      <td>110</td>\n",
       "      <td>1013.41</td>\n",
       "    </tr>\n",
       "    <tr>\n",
       "      <th>4</th>\n",
       "      <td>IND</td>\n",
       "      <td>Social, Finance, Analytics, Advertising</td>\n",
       "      <td>60</td>\n",
       "      <td>550.55</td>\n",
       "    </tr>\n",
       "    <tr>\n",
       "      <th>5</th>\n",
       "      <td>IND</td>\n",
       "      <td>News, Search and Messaging</td>\n",
       "      <td>52</td>\n",
       "      <td>433.84</td>\n",
       "    </tr>\n",
       "    <tr>\n",
       "      <th>6</th>\n",
       "      <td>GBR</td>\n",
       "      <td>Others</td>\n",
       "      <td>147</td>\n",
       "      <td>1283.65</td>\n",
       "    </tr>\n",
       "    <tr>\n",
       "      <th>7</th>\n",
       "      <td>GBR</td>\n",
       "      <td>Social, Finance, Analytics, Advertising</td>\n",
       "      <td>133</td>\n",
       "      <td>1089.39</td>\n",
       "    </tr>\n",
       "    <tr>\n",
       "      <th>8</th>\n",
       "      <td>GBR</td>\n",
       "      <td>Cleantech / Semiconductors</td>\n",
       "      <td>130</td>\n",
       "      <td>1163.97</td>\n",
       "    </tr>\n",
       "  </tbody>\n",
       "</table>\n",
       "</div>"
      ],
      "text/plain": [
       "  country_code                                   sector  Total Investments  \\\n",
       "0          USA                                   Others               2950   \n",
       "1          USA  Social, Finance, Analytics, Advertising               2714   \n",
       "2          USA               Cleantech / Semiconductors               2350   \n",
       "3          IND                                   Others                110   \n",
       "4          IND  Social, Finance, Analytics, Advertising                 60   \n",
       "5          IND               News, Search and Messaging                 52   \n",
       "6          GBR                                   Others                147   \n",
       "7          GBR  Social, Finance, Analytics, Advertising                133   \n",
       "8          GBR               Cleantech / Semiconductors                130   \n",
       "\n",
       "   Total Amount Received (USD in Millions)  \n",
       "0                                 26321.01  \n",
       "1                                 23807.38  \n",
       "2                                 21633.45  \n",
       "3                                  1013.41  \n",
       "4                                   550.55  \n",
       "5                                   433.84  \n",
       "6                                  1283.65  \n",
       "7                                  1089.39  \n",
       "8                                  1163.97  "
      ]
     },
     "execution_count": 111,
     "metadata": {},
     "output_type": "execute_result"
    }
   ],
   "source": [
    "## Get top3 sector by each country\n",
    "df_grouped=df.groupby(['country_code', 'sector']).raised_amount_in_millions.agg(['count', 'sum']).sort_values(['country_code','count'],ascending=False)\n",
    "df_top3 = df_grouped.groupby('country_code').head(3)\n",
    "df_top3.reset_index(inplace=True)\n",
    "#rename sum column to Total investment colums\n",
    "df_top3.rename(columns={'sum': 'Total Amount Received (USD in Millions)','count':'Total Investments'}, inplace=True)\n",
    "df_top3"
   ]
  },
  {
   "cell_type": "code",
   "execution_count": 112,
   "metadata": {},
   "outputs": [
    {
     "name": "stdout",
     "output_type": "stream",
     "text": [
      "<class 'pandas.core.frame.DataFrame'>\n",
      "RangeIndex: 9 entries, 0 to 8\n",
      "Data columns (total 4 columns):\n",
      " #   Column                                   Non-Null Count  Dtype  \n",
      "---  ------                                   --------------  -----  \n",
      " 0   country_code                             9 non-null      object \n",
      " 1   sector                                   9 non-null      object \n",
      " 2   Total Investments                        9 non-null      int64  \n",
      " 3   Total Amount Received (USD in Millions)  9 non-null      float64\n",
      "dtypes: float64(1), int64(1), object(2)\n",
      "memory usage: 280.0+ bytes\n"
     ]
    }
   ],
   "source": [
    "df_top3.info()"
   ]
  },
  {
   "cell_type": "code",
   "execution_count": 113,
   "metadata": {},
   "outputs": [
    {
     "data": {
      "image/png": "[encoded data removed]",
      "text/plain": [
       "<Figure size 1152x1008 with 2 Axes>"
      ]
     },
     "metadata": {
      "needs_background": "light"
     },
     "output_type": "display_data"
    }
   ],
   "source": [
    "# plotting sector-wise count and sum of investments in the three countries\n",
    "plt.figure(figsize=(16, 14))\n",
    "\n",
    "plt.subplot(2, 1, 1)\n",
    "p = sns.barplot(x='country_code', y='Total Amount Received (USD in Millions)', hue='sector', data=df_top3, estimator=np.sum)\n",
    "p.set_xticklabels(p.get_xticklabels(),rotation=30)\n",
    "plt.title('Total Invested Amount (USD in Millions)')\n",
    "\n",
    "plt.subplot(2, 1, 2)\n",
    "q = sns.barplot(x='country_code',y='Total Investments' , hue='sector', data=df_top3,estimator=np.sum)\n",
    "q.set_xticklabels(q.get_xticklabels(),rotation=30)\n",
    "q.set(ylabel='Total Investments')\n",
    "plt.title('Number of Investments')\n",
    "\n",
    "\n",
    "plt.show()"
   ]
  },
  {
   "cell_type": "code",
   "execution_count": 114,
   "metadata": {},
   "outputs": [
    {
     "name": "stdout",
     "output_type": "stream",
     "text": [
      "<class 'pandas.core.frame.DataFrame'>\n",
      "RangeIndex: 24 entries, 0 to 23\n",
      "Data columns (total 4 columns):\n",
      " #   Column        Non-Null Count  Dtype  \n",
      "---  ------        --------------  -----  \n",
      " 0   country_code  24 non-null     object \n",
      " 1   sector        24 non-null     object \n",
      " 2   count         24 non-null     int64  \n",
      " 3   sum           24 non-null     float64\n",
      "dtypes: float64(1), int64(1), object(2)\n",
      "memory usage: 640.0+ bytes\n"
     ]
    }
   ],
   "source": [
    "## Trying again by removing the others sector\n",
    "df_grouped.reset_index(inplace=True)\n",
    "df_grouped.info()"
   ]
  },
  {
   "cell_type": "code",
   "execution_count": 115,
   "metadata": {},
   "outputs": [],
   "source": [
    "df_grouped = df_grouped[df_grouped.sector!='Others']"
   ]
  },
  {
   "cell_type": "code",
   "execution_count": 116,
   "metadata": {},
   "outputs": [
    {
     "data": {
      "text/plain": [
       "1     Social, Finance, Analytics, Advertising\n",
       "2                  Cleantech / Semiconductors\n",
       "3                  News, Search and Messaging\n",
       "4                                      Health\n",
       "5                               Manufacturing\n",
       "6                               Entertainment\n",
       "7                         Automotive & Sports\n",
       "9     Social, Finance, Analytics, Advertising\n",
       "10                 News, Search and Messaging\n",
       "11                              Entertainment\n",
       "12                              Manufacturing\n",
       "13                 Cleantech / Semiconductors\n",
       "14                                     Health\n",
       "15                        Automotive & Sports\n",
       "17    Social, Finance, Analytics, Advertising\n",
       "18                 Cleantech / Semiconductors\n",
       "19                 News, Search and Messaging\n",
       "20                              Entertainment\n",
       "21                              Manufacturing\n",
       "22                                     Health\n",
       "23                        Automotive & Sports\n",
       "Name: sector, dtype: object"
      ]
     },
     "execution_count": 116,
     "metadata": {},
     "output_type": "execute_result"
    }
   ],
   "source": [
    "df_grouped.sector"
   ]
  },
  {
   "cell_type": "code",
   "execution_count": 117,
   "metadata": {},
   "outputs": [
    {
     "data": {
      "text/html": [
       "<div>\n",
       "<style scoped>\n",
       "    .dataframe tbody tr th:only-of-type {\n",
       "        vertical-align: middle;\n",
       "    }\n",
       "\n",
       "    .dataframe tbody tr th {\n",
       "        vertical-align: top;\n",
       "    }\n",
       "\n",
       "    .dataframe thead th {\n",
       "        text-align: right;\n",
       "    }\n",
       "</style>\n",
       "<table border=\"1\" class=\"dataframe\">\n",
       "  <thead>\n",
       "    <tr style=\"text-align: right;\">\n",
       "      <th></th>\n",
       "      <th>index</th>\n",
       "      <th>country_code</th>\n",
       "      <th>sector</th>\n",
       "      <th>count</th>\n",
       "      <th>sum</th>\n",
       "    </tr>\n",
       "  </thead>\n",
       "  <tbody>\n",
       "    <tr>\n",
       "      <th>0</th>\n",
       "      <td>1</td>\n",
       "      <td>USA</td>\n",
       "      <td>Social, Finance, Analytics, Advertising</td>\n",
       "      <td>2714</td>\n",
       "      <td>23807.38</td>\n",
       "    </tr>\n",
       "    <tr>\n",
       "      <th>1</th>\n",
       "      <td>2</td>\n",
       "      <td>USA</td>\n",
       "      <td>Cleantech / Semiconductors</td>\n",
       "      <td>2350</td>\n",
       "      <td>21633.45</td>\n",
       "    </tr>\n",
       "    <tr>\n",
       "      <th>2</th>\n",
       "      <td>3</td>\n",
       "      <td>USA</td>\n",
       "      <td>News, Search and Messaging</td>\n",
       "      <td>1583</td>\n",
       "      <td>13971.54</td>\n",
       "    </tr>\n",
       "    <tr>\n",
       "      <th>3</th>\n",
       "      <td>9</td>\n",
       "      <td>IND</td>\n",
       "      <td>Social, Finance, Analytics, Advertising</td>\n",
       "      <td>60</td>\n",
       "      <td>550.55</td>\n",
       "    </tr>\n",
       "    <tr>\n",
       "      <th>4</th>\n",
       "      <td>10</td>\n",
       "      <td>IND</td>\n",
       "      <td>News, Search and Messaging</td>\n",
       "      <td>52</td>\n",
       "      <td>433.84</td>\n",
       "    </tr>\n",
       "    <tr>\n",
       "      <th>5</th>\n",
       "      <td>11</td>\n",
       "      <td>IND</td>\n",
       "      <td>Entertainment</td>\n",
       "      <td>33</td>\n",
       "      <td>280.83</td>\n",
       "    </tr>\n",
       "    <tr>\n",
       "      <th>6</th>\n",
       "      <td>17</td>\n",
       "      <td>GBR</td>\n",
       "      <td>Social, Finance, Analytics, Advertising</td>\n",
       "      <td>133</td>\n",
       "      <td>1089.39</td>\n",
       "    </tr>\n",
       "    <tr>\n",
       "      <th>7</th>\n",
       "      <td>18</td>\n",
       "      <td>GBR</td>\n",
       "      <td>Cleantech / Semiconductors</td>\n",
       "      <td>130</td>\n",
       "      <td>1163.97</td>\n",
       "    </tr>\n",
       "    <tr>\n",
       "      <th>8</th>\n",
       "      <td>19</td>\n",
       "      <td>GBR</td>\n",
       "      <td>News, Search and Messaging</td>\n",
       "      <td>73</td>\n",
       "      <td>615.75</td>\n",
       "    </tr>\n",
       "  </tbody>\n",
       "</table>\n",
       "</div>"
      ],
      "text/plain": [
       "   index country_code                                   sector  count  \\\n",
       "0      1          USA  Social, Finance, Analytics, Advertising   2714   \n",
       "1      2          USA               Cleantech / Semiconductors   2350   \n",
       "2      3          USA               News, Search and Messaging   1583   \n",
       "3      9          IND  Social, Finance, Analytics, Advertising     60   \n",
       "4     10          IND               News, Search and Messaging     52   \n",
       "5     11          IND                            Entertainment     33   \n",
       "6     17          GBR  Social, Finance, Analytics, Advertising    133   \n",
       "7     18          GBR               Cleantech / Semiconductors    130   \n",
       "8     19          GBR               News, Search and Messaging     73   \n",
       "\n",
       "        sum  \n",
       "0  23807.38  \n",
       "1  21633.45  \n",
       "2  13971.54  \n",
       "3    550.55  \n",
       "4    433.84  \n",
       "5    280.83  \n",
       "6   1089.39  \n",
       "7   1163.97  \n",
       "8    615.75  "
      ]
     },
     "execution_count": 117,
     "metadata": {},
     "output_type": "execute_result"
    }
   ],
   "source": [
    "df_top3 = df_grouped.groupby('country_code').head(3)\n",
    "df_top3.reset_index(inplace=True)\n",
    "df_top3"
   ]
  },
  {
   "cell_type": "code",
   "execution_count": 118,
   "metadata": {},
   "outputs": [],
   "source": [
    "## Plotting after removing the others sector\n",
    "\n",
    "#rename sum column to Total investment colums\n",
    "df_top3.rename(columns={'sum': 'Total Amount Received (USD)'}, inplace=True)\n"
   ]
  },
  {
   "cell_type": "code",
   "execution_count": 119,
   "metadata": {},
   "outputs": [
    {
     "data": {
      "image/png": "[encoded data removed]",
      "text/plain": [
       "<Figure size 1152x1008 with 2 Axes>"
      ]
     },
     "metadata": {
      "needs_background": "light"
     },
     "output_type": "display_data"
    }
   ],
   "source": [
    "# plotting sector-wise count and sum of investments in the three countries\n",
    "plt.figure(figsize=(16, 14))\n",
    "\n",
    "plt.subplot(2, 1, 1)\n",
    "p = sns.barplot(x='country_code', y='Total Amount Received (USD)', hue='sector', data=df_top3, estimator=np.sum)\n",
    "p.set_xticklabels(p.get_xticklabels(),rotation=30)\n",
    "plt.title('Total Invested Amount (USD)')\n",
    "\n",
    "plt.subplot(2, 1, 2)\n",
    "q = sns.barplot(x='country_code',y='count' , hue='sector', data=df_top3,estimator=np.sum)\n",
    "q.set_xticklabels(q.get_xticklabels(),rotation=30)\n",
    "q.set(ylabel='Total Investments')\n",
    "plt.title('Number of Investments')\n",
    "\n",
    "\n",
    "plt.show()"
   ]
  }
 ],
 "metadata": {
  "kernelspec": {
   "display_name": "Python 3",
   "language": "python",
   "name": "python3"
  },
  "language_info": {
   "codemirror_mode": {
    "name": "ipython",
    "version": 3
   },
   "file_extension": ".py",
   "mimetype": "text/x-python",
   "name": "python",
   "nbconvert_exporter": "python",
   "pygments_lexer": "ipython3",
   "version": "3.8.2"
  }
 },
 "nbformat": 4,
 "nbformat_minor": 4
}
